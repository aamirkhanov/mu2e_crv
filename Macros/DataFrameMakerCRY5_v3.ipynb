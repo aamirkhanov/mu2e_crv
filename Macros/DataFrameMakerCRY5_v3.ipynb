{
  "nbformat": 4,
  "nbformat_minor": 0,
  "metadata": {
    "colab": {
      "name": "DataFrameMakerCRY5.ipynb",
      "provenance": [],
      "collapsed_sections": [],
      "include_colab_link": true
    },
    "kernelspec": {
      "name": "python3",
      "display_name": "Python 3"
    },
    "language_info": {
      "name": "python"
    }
  },
  "cells": [
    {
      "cell_type": "markdown",
      "metadata": {
        "id": "view-in-github",
        "colab_type": "text"
      },
      "source": [
        "<a href=\"https://colab.research.google.com/github/aamirkhanov/mu2e_crv/blob/main/Macros/DataFrameMakerCRY5_v3.ipynb\" target=\"_parent\"><img src=\"https://colab.research.google.com/assets/colab-badge.svg\" alt=\"Open In Colab\"/></a>"
      ]
    },
    {
      "cell_type": "code",
      "source": [
        "import sys\n",
        "# This allows you to run on Colaboratory and load files from your Google Drive\n",
        "try:\n",
        "    from google.colab import drive\n",
        "    drive.mount(\"/content/drive\")\n",
        "    main_path = '/content/drive/MyDrive/'\n",
        "except:\n",
        "    main_path = ''\n",
        "sys.path.append(main_path)\n",
        "\n",
        "\n",
        "import matplotlib.pyplot as plt\n",
        "%pip -q install uproot\n",
        "%pip -q install --upgrade tables\n",
        "import uproot\n",
        "import pandas as pd\n",
        "import numpy as np"
      ],
      "metadata": {
        "id": "U1AVbIbKX9Wz",
        "outputId": "df6b056d-4141-4219-fb75-dbdfb75477e0",
        "colab": {
          "base_uri": "https://localhost:8080/"
        }
      },
      "execution_count": null,
      "outputs": [
        {
          "output_type": "stream",
          "name": "stdout",
          "text": [
            "Drive already mounted at /content/drive; to attempt to forcibly remount, call drive.mount(\"/content/drive\", force_remount=True).\n"
          ]
        }
      ]
    },
    {
      "cell_type": "markdown",
      "source": [
        "#Copy files from mu2egpvm machines"
      ],
      "metadata": {
        "id": "Pm_VijkiYTer"
      }
    },
    {
      "cell_type": "code",
      "source": [
        "!apt-get -qq install krb5-user\n",
        "!wget https://authentication.fnal.gov/krb5conf/Linux/krb5.conf\n",
        "import os\n",
        "os.environ['KRB5_CONFIG'] = 'krb5.conf'"
      ],
      "metadata": {
        "id": "bwub-tBNljzf",
        "colab": {
          "base_uri": "https://localhost:8080/"
        },
        "outputId": "376f250e-69e4-4bee-99dc-d951a48681b0"
      },
      "execution_count": null,
      "outputs": [
        {
          "output_type": "stream",
          "name": "stdout",
          "text": [
            "--2022-08-27 03:30:26--  https://authentication.fnal.gov/krb5conf/Linux/krb5.conf\n",
            "Resolving authentication.fnal.gov (authentication.fnal.gov)... 131.225.105.240, 2620:6a:0:105::105:240\n",
            "Connecting to authentication.fnal.gov (authentication.fnal.gov)|131.225.105.240|:443... connected.\n",
            "HTTP request sent, awaiting response... 200 OK\n",
            "Length: 17486 (17K) [text/plain]\n",
            "Saving to: ‘krb5.conf.1’\n",
            "\n",
            "krb5.conf.1         100%[===================>]  17.08K  --.-KB/s    in 0.07s   \n",
            "\n",
            "2022-08-27 03:30:27 (252 KB/s) - ‘krb5.conf.1’ saved [17486/17486]\n",
            "\n"
          ]
        }
      ]
    },
    {
      "cell_type": "code",
      "source": [
        "!kinit oksuzian@FNAL.GOV"
      ],
      "metadata": {
        "id": "0uIygLPclji8",
        "colab": {
          "base_uri": "https://localhost:8080/"
        },
        "outputId": "370f05d2-b700-4fff-9cd7-3ab8e9a384a2"
      },
      "execution_count": null,
      "outputs": [
        {
          "output_type": "stream",
          "name": "stdout",
          "text": [
            "Password for oksuzian@FNAL.GOV: \n"
          ]
        }
      ]
    },
    {
      "cell_type": "code",
      "source": [
        "!scp -o StrictHostKeyChecking=no -o GSSAPIAuthentication=yes -o GSSAPIDelegateCredentials=yes oksuzian@mu2egpvm03.fnal.gov:/mu2e/data/users/oksuzian/nts.mu2e.CosmicCRYhiSigFiltMix2BBSignal.MDC2020s_perfect_v1_0.tka ."
      ],
      "metadata": {
        "id": "2MvdzGuqkRQ2"
      },
      "execution_count": null,
      "outputs": []
    },
    {
      "cell_type": "code",
      "source": [
        "!cp nts.mu2e.CosmicCRYhiSigFiltMix2BBSignal.MDC2020s_perfect_v1_0.tka drive/MyDrive/root_files_cry5/"
      ],
      "metadata": {
        "id": "E4kdoldlW71i"
      },
      "execution_count": null,
      "outputs": []
    },
    {
      "cell_type": "markdown",
      "metadata": {
        "id": "gV8ecMDtDXkE"
      },
      "source": [
        "# Init and define function"
      ]
    },
    {
      "cell_type": "code",
      "metadata": {
        "id": "1cYjEx76DYCd"
      },
      "source": [
        "DATASET='CRY5mixed'\n",
        "\n",
        "if DATASET=='CRY5mixed':\n",
        "  h5file='drive/MyDrive/root_files_cry5/trk.mu2e.CosmicCRYOnSpillSignal.MDC2020r_perfect_v1_0.h5'\n",
        "  files_root={                  \n",
        "    'drive/MyDrive/root_files_cry5/nts.mu2e.CosmicCRYhiSigFiltMix2BBSignal.MDC2020s_perfect_v1_0.tka': [17000, 1]\n",
        "    }\n",
        "elif DATASET=='CE1B':\n",
        "  h5file='drive/MyDrive/root_files_cry5/trk.mu2e.CeEndpointMix1BBSignal.MDC2020r_perfect_v1_0.h5'\n",
        "  files_root={                  \n",
        "    'drive/MyDrive/root_files_cry5/trk.mu2e.CeEndpointMix1BBSignal.MDC2020r_perfect_v1_0.root': [17000, -1],\n",
        "  }\n",
        "elif DATASET=='CE2B':\n",
        "  h5file='drive/MyDrive/root_files_cry5/trk.mu2e.CeEndpointMix2BBSignal.MDC2020r_perfect_v1_0.h5'\n",
        "  files_root={                  \n",
        "    'drive/MyDrive/root_files_cry5/trk.mu2e.CeEndpointMix2BBSignal.MDC2020r_perfect_v1_0.root': [17000, -1],\n",
        "  }\n",
        "else:\n",
        "  raise ValueError('Unknown dataset')"
      ],
      "execution_count": null,
      "outputs": []
    },
    {
      "cell_type": "code",
      "metadata": {
        "id": "HtOd-HS3JopR"
      },
      "source": [
        "def make_df(trkana, tag_high, lyield):\n",
        "\n",
        "  df_crv = trkana.arrays(filter_name='debestcrv/*',library=\"pd\")\n",
        "  df_crv.columns = df_crv.columns.str.replace('_', 'crvinfo_')\n",
        "  df_ = trkana.arrays(filter_name='debestcrvmc/*',library=\"pd\")\n",
        "  df_.columns = df_.columns.str.replace('_', 'crvinfomc_')\n",
        "  df_crv = df_crv.merge(df_, left_index=True, right_index=True)\n",
        "\n",
        "  df_ = trkana.arrays(filter_name='dequal*',library=\"pd\")\n",
        "  df_.columns = df_.columns.droplevel()\n",
        "  df_ = df_.add_prefix('dequal_')\n",
        "  df_crv = df_crv.merge(df_, left_index=True, right_index=True)\n",
        "\n",
        "  df_ = trkana.arrays(filter_name='detrkpid*',library=\"pd\")\n",
        "  df_.columns = df_.columns.droplevel()\n",
        "  df_ = df_.add_prefix('detrkpid_')\n",
        "  df_crv = df_crv.merge(df_, left_index=True, right_index=True)\n",
        "\n",
        "  df_eve = trkana.arrays(filter_name=['evtinfo.*', 'evtinfomc.*', 'de.*', 'deent*', 'demc.*', 'demcgen.*', 'demcpri.*', 'ue.*', 'crvsummary.*', 'crvsummarymc.*'],library=\"pd\")\n",
        "  df_eve.columns = df_eve.columns.str.replace('.', '_')\n",
        "  df_eve.columns = df_eve.columns.str.replace('_fCoordinates_f', '')\n",
        "  df_eve[\"deent_mom\"] = pow(pow(df_eve[\"deent_momX\"],2) + pow(df_eve[\"deent_momY\"],2) + pow(df_eve[\"deent_momZ\"],2),0.5)\n",
        "  df_eve[\"demcpri_mom\"] = pow(pow(df_eve[\"demcpri_momX\"],2) + pow(df_eve[\"demcpri_momY\"],2) + pow(df_eve[\"demcpri_momZ\"],2),0.5)\n",
        "\n",
        "  df = df_crv.merge(df_eve, left_index=True, right_index=True)\n",
        "  df['is_high'] = tag_high\n",
        "  df['lyield'] = int(lyield)\n",
        "  df[\"crvinfo_dT\"] = df[\"crvinfo_timeWindowStart\"] - df[\"de_t0\"]\n",
        "  df[\"crvinfo_dTe\"] = df[\"crvinfo_timeWindowEnd\"] - df[\"de_t0\"]\n",
        "  df = df.fillna(-999999)\n",
        "  return df"
      ],
      "execution_count": null,
      "outputs": []
    },
    {
      "cell_type": "code",
      "metadata": {
        "id": "PTjQqDcMtC4c"
      },
      "source": [
        " def combine_df(files):\n",
        "    \n",
        "  df = pd.DataFrame()\n",
        "  for f in files:\n",
        "      print(\"Reading file\", f, files[f][0], files[f][1])\n",
        "      trkana = uproot.open(f+\":TrkAnaNeg/trkana\")\n",
        "      df_ = make_df(trkana, files[f][1], files[f][0])\n",
        "      df_ = df_.filter(regex=var_str)\n",
        "      df = df.append(df_)\n",
        "  df = df.loc[:,~df.columns.duplicated()]  # delete duplicate colummns\n",
        "  return df   "
      ],
      "execution_count": null,
      "outputs": []
    },
    {
      "cell_type": "markdown",
      "metadata": {
        "id": "Cf75-mHNKVQe"
      },
      "source": [
        "#Variables list to save in df"
      ]
    },
    {
      "cell_type": "code",
      "metadata": {
        "id": "s3aWu2ZTFVSm"
      },
      "source": [
        "var_list=[\n",
        " 'evtinfo_eventid',\n",
        " 'evtinfo_subrunid',\n",
        " 'evtinfomc_nprotons',\n",
        " 'de_status',\n",
        " 'de_pdg',\n",
        " 'de_nhits',\n",
        " 'de_t0',\n",
        " 'deent_mom',\n",
        " 'deent_d0',\n",
        " 'deent_p0',\n",
        " 'deent_z0',\n",
        " 'deent_td',\n",
        " 'dequal_TrkPID',\n",
        " 'dequal_TrkQual',\n",
        " 'detrkpid',\n",
        " 'demc_pdg',\n",
        " 'demc_gen',\n",
        " 'demcgen_pdg',\n",
        " 'demcgen_gen',\n",
        " 'demcgen_posx',\n",
        " 'demcgen_posy',\n",
        " 'demcgen_posz',\n",
        " 'demcgen_momx',\n",
        " 'demcgen_momy',\n",
        " 'demcgen_momz',\n",
        " 'demcpri_posX',\n",
        " 'demcpri_posY',\n",
        " 'demcpri_posZ',\n",
        " 'demcpri_posZ',\n",
        " 'demcpri_pdg',\n",
        " 'demcpri_mom',\n",
        " 'trigbits',\n",
        " 'ue_status',\n",
        " 'ue_nhits',\n",
        " '_totalPEs',\n",
        " '_nHitCounters',\n",
        " '_totalEnergyDeposited',\n",
        " '_x',\n",
        " '_y',\n",
        " '_z',\n",
        " '_pdgId',\n",
        " '_crvSectorNumber',\n",
        " '_crvSectorType',\n",
        " 'crvsummary_totalPEs',\n",
        " 'crvsummary_nHitCounters',\n",
        " 'crvsummarymc_totalEnergyDeposited',\n",
        " 'crvsummarymc_x',\n",
        " 'crvsummarymc_y',\n",
        " 'crvsummarymc_z',\n",
        " 'crvsummarymc_pdgId',\n",
        " 'crvsummarymc_crvSectorNumber',\n",
        " 'crvsummarymc_crvSectorType',\n",
        " 'crvinfo_crvSectorType',\n",
        " 'crvinfo_x',\n",
        " 'crvinfo_y',\n",
        " 'crvinfo_z',\n",
        " 'crvinfo_PEs',\n",
        " 'crvinfo_timeWindowStart',\n",
        " 'crvinfo_timeWindowEnd',\n",
        " 'crvinfo_angle',\n",
        " 'crvinfo_nCoincidenceHits',\n",
        " 'crvinfo_nCoincidenceLayers',\n",
        " 'crvinfomc',\n",
        " 'bestcrv',\n",
        " 'is_high',\n",
        " 'lyield',\n",
        " 'crvinfo_dT',\n",
        " 'crvinfo_dTe',\n",
        " 'deent_maxr',\n",
        " 'is_triggered']\n",
        "\n",
        "var_str='('\n",
        "for var in var_list:\n",
        "  if var == \"detrkpid\":\n",
        "    var_str=var_str+var+'|'\n",
        "  elif var == 'crvinfomc':\n",
        "    var_str=var_str+var+'|'\n",
        "  else: \n",
        "    var_str=var_str+var+'$|'\n",
        "\n",
        "var_str=var_str[:-1]+')'"
      ],
      "execution_count": null,
      "outputs": []
    },
    {
      "cell_type": "markdown",
      "metadata": {
        "id": "O0f2Gwg3uAZD"
      },
      "source": [
        "# Save dataframe"
      ]
    },
    {
      "cell_type": "code",
      "source": [
        "df = combine_df(files_root)\n",
        "df.to_hdf(h5file, key=DATASET)"
      ],
      "metadata": {
        "colab": {
          "base_uri": "https://localhost:8080/"
        },
        "id": "7_Ksy89NB_P3",
        "outputId": "6bdfe730-7560-4f44-ab81-38b6f7ce3ecb"
      },
      "execution_count": null,
      "outputs": [
        {
          "output_type": "stream",
          "name": "stdout",
          "text": [
            "Reading file drive/MyDrive/root_files_cry5/nts.mu2e.CosmicCRYhiSigFiltMix2BBSignal.MDC2020s_perfect_v1_0.tka 17000 1\n"
          ]
        },
        {
          "output_type": "stream",
          "name": "stderr",
          "text": [
            "/usr/local/lib/python3.7/dist-packages/uproot/interpretation/library.py:805: PerformanceWarning: DataFrame is highly fragmented.  This is usually the result of calling `frame.insert` many times, which has poor performance.  Consider joining all columns at once using pd.concat(axis=1) instead.  To get a de-fragmented frame, use `newframe = frame.copy()`\n",
            "  out[name] = series[name]\n",
            "/usr/local/lib/python3.7/dist-packages/ipykernel_launcher.py:20: FutureWarning: The default value of regex will change from True to False in a future version. In addition, single character regular expressions will *not* be treated as literal strings when regex=True.\n",
            "/usr/local/lib/python3.7/dist-packages/ipykernel_launcher.py:22: PerformanceWarning: DataFrame is highly fragmented.  This is usually the result of calling `frame.insert` many times, which has poor performance.  Consider joining all columns at once using pd.concat(axis=1) instead.  To get a de-fragmented frame, use `newframe = frame.copy()`\n",
            "/usr/local/lib/python3.7/dist-packages/ipykernel_launcher.py:23: PerformanceWarning: DataFrame is highly fragmented.  This is usually the result of calling `frame.insert` many times, which has poor performance.  Consider joining all columns at once using pd.concat(axis=1) instead.  To get a de-fragmented frame, use `newframe = frame.copy()`\n",
            "/usr/local/lib/python3.7/dist-packages/ipykernel_launcher.py:26: PerformanceWarning: DataFrame is highly fragmented.  This is usually the result of calling `frame.insert` many times, which has poor performance.  Consider joining all columns at once using pd.concat(axis=1) instead.  To get a de-fragmented frame, use `newframe = frame.copy()`\n",
            "/usr/local/lib/python3.7/dist-packages/ipykernel_launcher.py:27: PerformanceWarning: DataFrame is highly fragmented.  This is usually the result of calling `frame.insert` many times, which has poor performance.  Consider joining all columns at once using pd.concat(axis=1) instead.  To get a de-fragmented frame, use `newframe = frame.copy()`\n",
            "/usr/local/lib/python3.7/dist-packages/ipykernel_launcher.py:28: PerformanceWarning: DataFrame is highly fragmented.  This is usually the result of calling `frame.insert` many times, which has poor performance.  Consider joining all columns at once using pd.concat(axis=1) instead.  To get a de-fragmented frame, use `newframe = frame.copy()`\n",
            "/usr/local/lib/python3.7/dist-packages/ipykernel_launcher.py:29: PerformanceWarning: DataFrame is highly fragmented.  This is usually the result of calling `frame.insert` many times, which has poor performance.  Consider joining all columns at once using pd.concat(axis=1) instead.  To get a de-fragmented frame, use `newframe = frame.copy()`\n"
          ]
        }
      ]
    },
    {
      "cell_type": "markdown",
      "metadata": {
        "id": "PlHfRi5ZLLmj"
      },
      "source": [
        "#Load dataframe"
      ]
    },
    {
      "cell_type": "code",
      "metadata": {
        "id": "mU-abhhJLNIc"
      },
      "source": [
        "df = pd.read_hdf(h5file, mode='r', key=DATASET).query('lyield==17000')"
      ],
      "execution_count": null,
      "outputs": []
    },
    {
      "cell_type": "code",
      "metadata": {
        "id": "FoBthcBg0MRq",
        "outputId": "bc967576-bc84-4827-af35-a9dcaf2727d3",
        "colab": {
          "base_uri": "https://localhost:8080/",
          "height": 761
        }
      },
      "source": [
        "for l in range(7000,17001,2000):\n",
        "  plt.hist(df.query('is_high==1 & lyield==%i' % l)['crvinfo_PEs'], bins=100, range=(0, 1000), histtype='step');\n",
        "plt.figure()\n",
        "for l in range(7000,17001,2000):\n",
        "  plt.hist(df.query('is_high==0 & lyield==%i' % l)['crvinfo_PEs'], bins=100, range=(0, 1000), histtype='step');\n",
        "plt.figure()\n",
        "plt.hist(df.query('is_high==0 & lyield==%i' % 17000)['crvinfomc_z'], bins=100, range=(-5000, 20000), histtype='step');\n",
        "plt.hist(df.query('is_high==1 & lyield==%i' % 17000)['crvinfomc_z'], bins=100, range=(-5000, 20000), histtype='step');"
      ],
      "execution_count": null,
      "outputs": [
        {
          "output_type": "display_data",
          "data": {
            "text/plain": [
              "<Figure size 432x288 with 1 Axes>"
            ],
            "image/png": "[encoded data removed]"
          },
          "metadata": {
            "needs_background": "light"
          }
        },
        {
          "output_type": "display_data",
          "data": {
            "text/plain": [
              "<Figure size 432x288 with 1 Axes>"
            ],
            "image/png": "[encoded data removed]"
          },
          "metadata": {
            "needs_background": "light"
          }
        },
        {
          "output_type": "display_data",
          "data": {
            "text/plain": [
              "<Figure size 432x288 with 1 Axes>"
            ],
            "image/png": "[encoded data removed]"
          },
          "metadata": {
            "needs_background": "light"
          }
        }
      ]
    },
    {
      "cell_type": "code",
      "source": [
        "cut_tmp = 'lyield==%i' % 17000\n",
        "plt.plot(df.query(cut_tmp)['crvinfomc_z'], df.query(cut_tmp)['crvinfomc_x'], '.', markersize=0.5);"
      ],
      "metadata": {
        "id": "YcRIoGigCGQM",
        "outputId": "cfb3856c-7e92-4653-88d1-6399534471c3",
        "colab": {
          "base_uri": "https://localhost:8080/",
          "height": 265
        }
      },
      "execution_count": null,
      "outputs": [
        {
          "output_type": "display_data",
          "data": {
            "text/plain": [
              "<Figure size 432x288 with 1 Axes>"
            ],
            "image/png": "[encoded data removed]"
          },
          "metadata": {
            "needs_background": "light"
          }
        }
      ]
    }
  ]
}