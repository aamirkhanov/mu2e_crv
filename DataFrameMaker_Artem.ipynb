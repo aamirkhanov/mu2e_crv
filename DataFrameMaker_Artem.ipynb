{
  "nbformat": 4,
  "nbformat_minor": 0,
  "metadata": {
    "colab": {
      "name": "DataFrameMaker_Artem.ipynb",
      "provenance": [],
      "collapsed_sections": [],
      "include_colab_link": true
    },
    "kernelspec": {
      "name": "python3",
      "display_name": "Python 3"
    },
    "language_info": {
      "name": "python"
    }
  },
  "cells": [
    {
      "cell_type": "markdown",
      "metadata": {
        "id": "view-in-github",
        "colab_type": "text"
      },
      "source": [
        "<a href=\"https://colab.research.google.com/github/aamirkhanov/mu2e_crv/blob/main/DataFrameMaker_Artem.ipynb\" target=\"_parent\"><img src=\"https://colab.research.google.com/assets/colab-badge.svg\" alt=\"Open In Colab\"/></a>"
      ]
    },
    {
      "cell_type": "markdown",
      "metadata": {
        "id": "gV8ecMDtDXkE"
      },
      "source": [
        "# Init and define function"
      ]
    },
    {
      "cell_type": "code",
      "metadata": {
        "colab": {
          "base_uri": "https://localhost:8080/"
        },
        "id": "1cYjEx76DYCd",
        "outputId": "d83f44f6-f3dd-48e5-eb60-ff3334f4c872"
      },
      "source": [
        "import sys\n",
        "import matplotlib.pyplot as plt\n",
        "%pip -q install uproot3\n",
        "%pip -q install --upgrade tables\n",
        "import uproot3\n",
        "import pandas as pd\n",
        "h5file='drive/MyDrive/root_files_cry4/cry4df_Artem2.h5'\n",
        "h5fileCRY5='drive/MyDrive/root_files_cry4/cry5df_Artem.h5'\n",
        "\n",
        "# This allows you to run on Colaboratory and load files from your Google Drive\n",
        "try:\n",
        "    from google.colab import drive\n",
        "    drive.mount(\"/content/drive\")\n",
        "    main_path = '/content/drive/MyDrive/'\n",
        "except:\n",
        "    main_path = ''\n",
        "sys.path.append(main_path)\n",
        "sys.path.append(main_path+'root_files_cry4')"
      ],
      "execution_count": 1,
      "outputs": [
        {
          "output_type": "stream",
          "name": "stdout",
          "text": [
            "\u001b[K     |████████████████████████████████| 117 kB 5.5 MB/s \n",
            "\u001b[K     |████████████████████████████████| 87 kB 5.8 MB/s \n",
            "\u001b[?25hMounted at /content/drive\n"
          ]
        }
      ]
    },
    {
      "cell_type": "code",
      "metadata": {
        "id": "FJetvMcrI-Pe"
      },
      "source": [
        "def default_flatname(branchname, fieldname, index):\n",
        "    \"\"\"This replaces the dot in the column names with underscores\"\"\"\n",
        "    out = branchname.replace(\".\", \"_\")\n",
        "    if not isinstance(branchname, str):\n",
        "        out = branchname.decode(\"utf-8\")\n",
        "    if fieldname is not None:\n",
        "        fieldname.replace(\".\", \"_\")\n",
        "        out += \"_\" + fieldname\n",
        "    if index != ():\n",
        "        out += \"[\" + \"][\".join(str(x) for x in index) + \"]\"\n",
        "    return out"
      ],
      "execution_count": 2,
      "outputs": []
    },
    {
      "cell_type": "code",
      "metadata": {
        "id": "HtOd-HS3JopR"
      },
      "source": [
        "def make_df(trkana, tag_high, lyield):\n",
        "\n",
        "  df_eve = trkana.pandas.df(['evtinfo.', 'de', 'deent', 'dequal', 'demc', 'demcgen', 'trigbits', 'ue', 'crvsummary*', '_*'], flatname=default_flatname, flatten=True)\n",
        "  df_crv = trkana.pandas.df(['crvinfo.*', 'crvinfomc.*', 'bestcrv'], flatname=default_flatname, flatten=True)\n",
        "  df_crv = df_crv[df_crv.index.get_level_values('subentry') == df_crv[\"bestcrv\"]]\n",
        "\n",
        "  pd.merge(df_eve, df_crv, how=\"left\", on='entry')\n",
        "  df = df_eve.merge(df_crv, how=\"left\", on=\"entry\")\n",
        "  df['is_high'] = tag_high\n",
        "  df['lyield'] = int(lyield)\n",
        "  df[\"crvinfo__dT\"] = df[\"crvinfo__timeWindowStart\"] - df[\"de_t0\"]\n",
        "  df['deent_d0_om'] = df[\"deent_d0\"]+2.0/df[\"deent_om\"]\n",
        "  df[\"is_triggered\"] = (df[\"trigbits\"].values & 0x208) > 0\n",
        "  df = df.fillna(-999999)\n",
        "  return df"
      ],
      "execution_count": 4,
      "outputs": []
    },
    {
      "cell_type": "code",
      "metadata": {
        "id": "PTjQqDcMtC4c"
      },
      "source": [
        "def combine_df(files):\n",
        "    \n",
        "  df = pd.DataFrame()\n",
        "  for f in files:\n",
        "      print(\"Reading file\", f, files[f][0], files[f][1])\n",
        "      file = uproot3.open(f)\n",
        "      trkana = file[\"TrkAnaNeg\"][\"trkana\"]\n",
        "      df_ = make_df(trkana, files[f][1], files[f][0])\n",
        "      #df_ = df_[var_list]\n",
        "      df = df.append(df_)\n",
        "  df = df.loc[:,~df.columns.duplicated()]  # delete duplicate colummns\n",
        "  return df    "
      ],
      "execution_count": 11,
      "outputs": []
    },
    {
      "cell_type": "code",
      "source": [
        "def make_df_CRY5(tag_high, lyield):\n",
        "\n",
        "  dfCRY5 = pd.DataFrame()\n",
        "  file = uproot3.open(\"drive/MyDrive/root_files_cry4/trkanaCosmicCRYonRecoTriggered010722.root\")\n",
        "  trkana = file[\"TrkAnaNeg\"][\"trkana\"]\n",
        "  dfCRY5 = trkana.pandas.df(['*'], flatname=default_flatname, flatten=True)\n",
        "  dfCRY5 = dfCRY5.loc[:,~dfCRY5.columns.duplicated()]  # delete duplicate colummns\n",
        "\n",
        "  dfCRY5['is_high'] = tag_high\n",
        "  dfCRY5['lyield'] = int(lyield)\n",
        "  dfCRY5[\"crvinfo__dT\"] = dfCRY5[\"crvinfo__timeWindowStart\"] - dfCRY5[\"de_t0\"]\n",
        "  #dfCRY5['deent_d0_om'] = dfCRY5[\"deent_d0\"]+2.0/dfCRY5[\"deent_om\"]\n",
        "  #dfCRY5[\"is_triggered\"] = (dfCRY5[\"trigbits\"].values & 0x208) > 0\n",
        "  dfCRY5 = dfCRY5.fillna(-999999)\n",
        "  return dfCRY5"
      ],
      "metadata": {
        "id": "eTlxNPNlLn_M"
      },
      "execution_count": 7,
      "outputs": []
    },
    {
      "cell_type": "code",
      "source": [
        "df = pd.DataFrame()\n",
        "file = uproot3.open('drive/MyDrive/root_files_cry4/ana.amirkhan.RecoMC.cry4v940.092020_17000_lo.root')\n",
        "trkana = file[\"TrkAnaNeg\"][\"trkana\"]\n",
        "df_ = make_df(trkana, 0, 17000)\n"
      ],
      "metadata": {
        "id": "GoMgIzO4aJ_c"
      },
      "execution_count": null,
      "outputs": []
    },
    {
      "cell_type": "code",
      "source": [
        "df_.query(\"_crvSectorNumber == 9 & crvinfo__timeWindowStart<0 & dequal_TrkQual > 0.8 & (dequal_TrkPID > 0.95) & (ue_status <= 0) & ((_y > -1910 & _crvSectorType == 1) | (_z > 2830 & _crvSectorType == 2) | (_x < 470 & _z > -2230 & _crvSectorType == 4) | (_x < -100 & _crvSectorType == 5) | _crvSectorType == 3 | _crvSectorType > 5)\")\n"
      ],
      "metadata": {
        "id": "mVDJA9HPaiVC"
      },
      "execution_count": null,
      "outputs": []
    },
    {
      "cell_type": "markdown",
      "metadata": {
        "id": "Cf75-mHNKVQe"
      },
      "source": [
        "#Variables list to save in df"
      ]
    },
    {
      "cell_type": "code",
      "metadata": {
        "id": "s3aWu2ZTFVSm"
      },
      "source": [
        "var_list = ['evtinfo__eventid',\n",
        "        'evtinfo__runid',\n",
        "        'evtinfo__subrunid',\n",
        "        'de_status',\n",
        "        'de_pdg',\n",
        "        'de_nhits',\n",
        "        'de_t0',\n",
        "        'deent_mom',\n",
        "        'deent_d0',\n",
        "        'deent_p0',\n",
        "        'deent_om',\n",
        "        'deent_z0',\n",
        "        'deent_td',\n",
        "        'dequal_TrkPID',\n",
        "        'dequal_TrkQual',\n",
        "        'demc_pdg',\n",
        "        'demcgen_pdg',\n",
        "        'demcgen_gen',\n",
        "        'demcgen_posx',\n",
        "        'demcgen_posy',\n",
        "        'demcgen_posz',\n",
        "        'trigbits',\n",
        "        'ue_status',\n",
        "        '_totalPEs',\n",
        "        '_nHitCounters',\n",
        "        '_totalEnergyDeposited',\n",
        "        '_x',\n",
        "        '_y',\n",
        "        '_z',\n",
        "        '_crvSectorNumber',\n",
        "        '_crvSectorType',\n",
        "        '_pdgId',\n",
        "        'is_high',\n",
        "        'lyield',\n",
        "        'crvinfo__dT',\n",
        "        'deent_d0_om',\n",
        "        'is_triggered',\n",
        "        'crvinfo__crvSectorType',\n",
        "        'crvinfo__x',\n",
        "        'crvinfo__y',\n",
        "        'crvinfo__z',\n",
        "        'crvinfo__timeWindowStart',\n",
        "        'crvinfo__timeWindowEnd',\n",
        "        'crvinfo__PEs',\n",
        "        'crvinfo__nCoincidenceHits',\n",
        "        'crvinfomc__x',\n",
        "        'crvinfomc__y',\n",
        "        'crvinfomc__z',\n",
        "        'crvinfomc__pdgId',\n",
        "        'crvinfomc__time',\n",
        "        'crvinfomc__depositedEnergy',\n",
        "        'bestcrv']        \n"
      ],
      "execution_count": 6,
      "outputs": []
    },
    {
      "cell_type": "markdown",
      "metadata": {
        "id": "O0f2Gwg3uAZD"
      },
      "source": [
        "# Save dataframe"
      ]
    },
    {
      "cell_type": "code",
      "metadata": {
        "id": "kORKjW0_Jq5J"
      },
      "source": [
        "files = {                  \n",
        "        'drive/MyDrive/root_files_cry4/ana.dzhadan.RecoMC.cry4v940.092020_7000_lo.root': [7000, 0],\n",
        "        'drive/MyDrive/root_files_cry4/ana.dzhadan.RecoMC.cry4v940.123020_7000_lo.root': [7000, 0],\n",
        "        'drive/MyDrive/root_files_cry4/ana.dzhadan.RecoMC.cry4v940.092020_9000_lo.root': [9000, 0],\n",
        "        'drive/MyDrive/root_files_cry4/ana.dzhadan.RecoMC.cry4v940.123020_9000_lo.root': [9000, 0],         \n",
        "        'drive/MyDrive/root_files_cry4/ana.amirkhan.RecoMC.cry4v940.092020_11000_lo.root': [11000, 0],\n",
        "        'drive/MyDrive/root_files_cry4/ana.dzhadan.RecoMC.cry4v940.123020_11000_lo.root': [11000, 0],         \n",
        "        'drive/MyDrive/root_files_cry4/ana.amirkhan.RecoMC.cry4v940.092020_13000_lo.root': [13000, 0],\n",
        "        'drive/MyDrive/root_files_cry4/ana.amirkhan.RecoMC.cry4v940.123020_13000_lo.root': [13000, 0],\n",
        "        'drive/MyDrive/root_files_cry4/ana.amirkhan.RecoMC.cry4v940.092020_15000_lo.root': [15000, 0],\n",
        "        'drive/MyDrive/root_files_cry4/ana.amirkhan.RecoMC.cry4v940.123020_15000_lo.root': [15000, 0],        \n",
        "        'drive/MyDrive/root_files_cry4/ana.amirkhan.RecoMC.cry4v940.092020_17000_lo.root': [17000, 0],\n",
        "        'drive/MyDrive/root_files_cry4/ana.amirkhan.RecoMC.cry4v940.123020_17000_lo.root': [17000, 0],\n",
        "        \n",
        "        'drive/MyDrive/root_files_cry4/ana.dzhadan.RecoMC.cry4v940.092020_7000_hi.root': [7000, 1],\n",
        "        'drive/MyDrive/root_files_cry4/ana.dzhadan.RecoMC.cry4v940.092020_9000_hi.root': [9000, 1],\n",
        "        'drive/MyDrive/root_files_cry4/ana.amirkhan.RecoMC.cry4v940.092020_11000_hi.root': [11000, 1],\n",
        "        'drive/MyDrive/root_files_cry4/ana.amirkhan.RecoMC.cry4v940.092020_13000_hi.root': [13000, 1],\n",
        "        'drive/MyDrive/root_files_cry4/ana.amirkhan.RecoMC.cry4v940.092020_15000_hi.root': [15000, 1],\n",
        "        'drive/MyDrive/root_files_cry4/ana.amirkhan.RecoMC.cry4v940.092020_17000_hi.root': [17000, 1],\n",
        "        }"
      ],
      "execution_count": null,
      "outputs": []
    },
    {
      "cell_type": "code",
      "source": [
        "#CRY5\n",
        "df = make_df_CRY5(1, 20000)\n",
        "store = pd.HDFStore(h5fileCRY5, mode='w')\n",
        "store['cry5'] = df\n",
        "store.close()"
      ],
      "metadata": {
        "colab": {
          "base_uri": "https://localhost:8080/",
          "height": 411
        },
        "id": "Q8sB2MDYKiRS",
        "outputId": "323a44b3-fd5e-4b75-ab47-87cca1ec1c17"
      },
      "execution_count": 8,
      "outputs": [
        {
          "output_type": "error",
          "ename": "ValueError",
          "evalue": "ignored",
          "traceback": [
            "\u001b[0;31m---------------------------------------------------------------------------\u001b[0m",
            "\u001b[0;31mValueError\u001b[0m                                Traceback (most recent call last)",
            "\u001b[0;32m<ipython-input-8-419f564aa7be>\u001b[0m in \u001b[0;36m<module>\u001b[0;34m()\u001b[0m\n\u001b[1;32m      1\u001b[0m \u001b[0;31m#CRY5\u001b[0m\u001b[0;34m\u001b[0m\u001b[0;34m\u001b[0m\u001b[0;34m\u001b[0m\u001b[0m\n\u001b[0;32m----> 2\u001b[0;31m \u001b[0mdf\u001b[0m \u001b[0;34m=\u001b[0m \u001b[0mmake_df_CRY5\u001b[0m\u001b[0;34m(\u001b[0m\u001b[0;36m1\u001b[0m\u001b[0;34m,\u001b[0m \u001b[0;36m20000\u001b[0m\u001b[0;34m)\u001b[0m\u001b[0;34m\u001b[0m\u001b[0;34m\u001b[0m\u001b[0m\n\u001b[0m\u001b[1;32m      3\u001b[0m \u001b[0mstore\u001b[0m \u001b[0;34m=\u001b[0m \u001b[0mpd\u001b[0m\u001b[0;34m.\u001b[0m\u001b[0mHDFStore\u001b[0m\u001b[0;34m(\u001b[0m\u001b[0mh5fileCRY5\u001b[0m\u001b[0;34m,\u001b[0m \u001b[0mmode\u001b[0m\u001b[0;34m=\u001b[0m\u001b[0;34m'w'\u001b[0m\u001b[0;34m)\u001b[0m\u001b[0;34m\u001b[0m\u001b[0;34m\u001b[0m\u001b[0m\n\u001b[1;32m      4\u001b[0m \u001b[0mstore\u001b[0m\u001b[0;34m[\u001b[0m\u001b[0;34m'cry5'\u001b[0m\u001b[0;34m]\u001b[0m \u001b[0;34m=\u001b[0m \u001b[0mdf\u001b[0m\u001b[0;34m\u001b[0m\u001b[0;34m\u001b[0m\u001b[0m\n\u001b[1;32m      5\u001b[0m \u001b[0mstore\u001b[0m\u001b[0;34m.\u001b[0m\u001b[0mclose\u001b[0m\u001b[0;34m(\u001b[0m\u001b[0;34m)\u001b[0m\u001b[0;34m\u001b[0m\u001b[0;34m\u001b[0m\u001b[0m\n",
            "\u001b[0;32m<ipython-input-7-2b49b4d3ce73>\u001b[0m in \u001b[0;36mmake_df_CRY5\u001b[0;34m(tag_high, lyield)\u001b[0m\n\u001b[1;32m      4\u001b[0m   \u001b[0mfile\u001b[0m \u001b[0;34m=\u001b[0m \u001b[0muproot3\u001b[0m\u001b[0;34m.\u001b[0m\u001b[0mopen\u001b[0m\u001b[0;34m(\u001b[0m\u001b[0;34m\"drive/MyDrive/root_files_cry4/trkanaCosmicCRYonRecoTriggered010722.root\"\u001b[0m\u001b[0;34m)\u001b[0m\u001b[0;34m\u001b[0m\u001b[0;34m\u001b[0m\u001b[0m\n\u001b[1;32m      5\u001b[0m   \u001b[0mtrkana\u001b[0m \u001b[0;34m=\u001b[0m \u001b[0mfile\u001b[0m\u001b[0;34m[\u001b[0m\u001b[0;34m\"TrkAnaNeg\"\u001b[0m\u001b[0;34m]\u001b[0m\u001b[0;34m[\u001b[0m\u001b[0;34m\"trkana\"\u001b[0m\u001b[0;34m]\u001b[0m\u001b[0;34m\u001b[0m\u001b[0;34m\u001b[0m\u001b[0m\n\u001b[0;32m----> 6\u001b[0;31m   \u001b[0mdfCRY5\u001b[0m \u001b[0;34m=\u001b[0m \u001b[0mtrkana\u001b[0m\u001b[0;34m.\u001b[0m\u001b[0mpandas\u001b[0m\u001b[0;34m.\u001b[0m\u001b[0mdf\u001b[0m\u001b[0;34m(\u001b[0m\u001b[0;34m[\u001b[0m\u001b[0;34m'*'\u001b[0m\u001b[0;34m]\u001b[0m\u001b[0;34m,\u001b[0m \u001b[0mflatname\u001b[0m\u001b[0;34m=\u001b[0m\u001b[0mdefault_flatname\u001b[0m\u001b[0;34m,\u001b[0m \u001b[0mflatten\u001b[0m\u001b[0;34m=\u001b[0m\u001b[0;32mTrue\u001b[0m\u001b[0;34m)\u001b[0m\u001b[0;34m\u001b[0m\u001b[0;34m\u001b[0m\u001b[0m\n\u001b[0m\u001b[1;32m      7\u001b[0m   \u001b[0mdfCRY5\u001b[0m \u001b[0;34m=\u001b[0m \u001b[0mdfCRY5\u001b[0m\u001b[0;34m.\u001b[0m\u001b[0mloc\u001b[0m\u001b[0;34m[\u001b[0m\u001b[0;34m:\u001b[0m\u001b[0;34m,\u001b[0m\u001b[0;34m~\u001b[0m\u001b[0mdfCRY5\u001b[0m\u001b[0;34m.\u001b[0m\u001b[0mcolumns\u001b[0m\u001b[0;34m.\u001b[0m\u001b[0mduplicated\u001b[0m\u001b[0;34m(\u001b[0m\u001b[0;34m)\u001b[0m\u001b[0;34m]\u001b[0m  \u001b[0;31m# delete duplicate colummns\u001b[0m\u001b[0;34m\u001b[0m\u001b[0;34m\u001b[0m\u001b[0m\n\u001b[1;32m      8\u001b[0m \u001b[0;34m\u001b[0m\u001b[0m\n",
            "\u001b[0;32m/usr/local/lib/python3.7/dist-packages/uproot3/_connect/_pandas.py\u001b[0m in \u001b[0;36mdf\u001b[0;34m(self, branches, namedecode, entrystart, entrystop, flatten, flatname, awkwardlib, cache, basketcache, keycache, executor, blocking)\u001b[0m\n\u001b[1;32m     30\u001b[0m     \u001b[0;32mdef\u001b[0m \u001b[0mdf\u001b[0m\u001b[0;34m(\u001b[0m\u001b[0mself\u001b[0m\u001b[0;34m,\u001b[0m \u001b[0mbranches\u001b[0m\u001b[0;34m=\u001b[0m\u001b[0;32mNone\u001b[0m\u001b[0;34m,\u001b[0m \u001b[0mnamedecode\u001b[0m\u001b[0;34m=\u001b[0m\u001b[0;34m\"utf-8\"\u001b[0m\u001b[0;34m,\u001b[0m \u001b[0mentrystart\u001b[0m\u001b[0;34m=\u001b[0m\u001b[0;32mNone\u001b[0m\u001b[0;34m,\u001b[0m \u001b[0mentrystop\u001b[0m\u001b[0;34m=\u001b[0m\u001b[0;32mNone\u001b[0m\u001b[0;34m,\u001b[0m \u001b[0mflatten\u001b[0m\u001b[0;34m=\u001b[0m\u001b[0;32mTrue\u001b[0m\u001b[0;34m,\u001b[0m \u001b[0mflatname\u001b[0m\u001b[0;34m=\u001b[0m\u001b[0;32mNone\u001b[0m\u001b[0;34m,\u001b[0m \u001b[0mawkwardlib\u001b[0m\u001b[0;34m=\u001b[0m\u001b[0;32mNone\u001b[0m\u001b[0;34m,\u001b[0m \u001b[0mcache\u001b[0m\u001b[0;34m=\u001b[0m\u001b[0;32mNone\u001b[0m\u001b[0;34m,\u001b[0m \u001b[0mbasketcache\u001b[0m\u001b[0;34m=\u001b[0m\u001b[0;32mNone\u001b[0m\u001b[0;34m,\u001b[0m \u001b[0mkeycache\u001b[0m\u001b[0;34m=\u001b[0m\u001b[0;32mNone\u001b[0m\u001b[0;34m,\u001b[0m \u001b[0mexecutor\u001b[0m\u001b[0;34m=\u001b[0m\u001b[0;32mNone\u001b[0m\u001b[0;34m,\u001b[0m \u001b[0mblocking\u001b[0m\u001b[0;34m=\u001b[0m\u001b[0;32mTrue\u001b[0m\u001b[0;34m)\u001b[0m\u001b[0;34m:\u001b[0m\u001b[0;34m\u001b[0m\u001b[0;34m\u001b[0m\u001b[0m\n\u001b[1;32m     31\u001b[0m         \u001b[0;32mimport\u001b[0m \u001b[0mpandas\u001b[0m\u001b[0;34m\u001b[0m\u001b[0;34m\u001b[0m\u001b[0m\n\u001b[0;32m---> 32\u001b[0;31m         \u001b[0;32mreturn\u001b[0m \u001b[0mself\u001b[0m\u001b[0;34m.\u001b[0m\u001b[0m_tree\u001b[0m\u001b[0;34m.\u001b[0m\u001b[0marrays\u001b[0m\u001b[0;34m(\u001b[0m\u001b[0mbranches\u001b[0m\u001b[0;34m=\u001b[0m\u001b[0mbranches\u001b[0m\u001b[0;34m,\u001b[0m \u001b[0moutputtype\u001b[0m\u001b[0;34m=\u001b[0m\u001b[0mpandas\u001b[0m\u001b[0;34m.\u001b[0m\u001b[0mDataFrame\u001b[0m\u001b[0;34m,\u001b[0m \u001b[0mnamedecode\u001b[0m\u001b[0;34m=\u001b[0m\u001b[0mnamedecode\u001b[0m\u001b[0;34m,\u001b[0m \u001b[0mentrystart\u001b[0m\u001b[0;34m=\u001b[0m\u001b[0mentrystart\u001b[0m\u001b[0;34m,\u001b[0m \u001b[0mentrystop\u001b[0m\u001b[0;34m=\u001b[0m\u001b[0mentrystop\u001b[0m\u001b[0;34m,\u001b[0m \u001b[0mflatten\u001b[0m\u001b[0;34m=\u001b[0m\u001b[0mflatten\u001b[0m\u001b[0;34m,\u001b[0m \u001b[0mflatname\u001b[0m\u001b[0;34m=\u001b[0m\u001b[0mflatname\u001b[0m\u001b[0;34m,\u001b[0m \u001b[0mawkwardlib\u001b[0m\u001b[0;34m=\u001b[0m\u001b[0mawkwardlib\u001b[0m\u001b[0;34m,\u001b[0m \u001b[0mcache\u001b[0m\u001b[0;34m=\u001b[0m\u001b[0mcache\u001b[0m\u001b[0;34m,\u001b[0m \u001b[0mbasketcache\u001b[0m\u001b[0;34m=\u001b[0m\u001b[0mbasketcache\u001b[0m\u001b[0;34m,\u001b[0m \u001b[0mkeycache\u001b[0m\u001b[0;34m=\u001b[0m\u001b[0mkeycache\u001b[0m\u001b[0;34m,\u001b[0m \u001b[0mexecutor\u001b[0m\u001b[0;34m=\u001b[0m\u001b[0mexecutor\u001b[0m\u001b[0;34m,\u001b[0m \u001b[0mblocking\u001b[0m\u001b[0;34m=\u001b[0m\u001b[0mblocking\u001b[0m\u001b[0;34m)\u001b[0m\u001b[0;34m\u001b[0m\u001b[0;34m\u001b[0m\u001b[0m\n\u001b[0m\u001b[1;32m     33\u001b[0m \u001b[0;34m\u001b[0m\u001b[0m\n\u001b[1;32m     34\u001b[0m     \u001b[0;32mdef\u001b[0m \u001b[0miterate\u001b[0m\u001b[0;34m(\u001b[0m\u001b[0mself\u001b[0m\u001b[0;34m,\u001b[0m \u001b[0mbranches\u001b[0m\u001b[0;34m=\u001b[0m\u001b[0;32mNone\u001b[0m\u001b[0;34m,\u001b[0m \u001b[0mentrysteps\u001b[0m\u001b[0;34m=\u001b[0m\u001b[0;32mNone\u001b[0m\u001b[0;34m,\u001b[0m \u001b[0mnamedecode\u001b[0m\u001b[0;34m=\u001b[0m\u001b[0;34m\"utf-8\"\u001b[0m\u001b[0;34m,\u001b[0m \u001b[0mentrystart\u001b[0m\u001b[0;34m=\u001b[0m\u001b[0;32mNone\u001b[0m\u001b[0;34m,\u001b[0m \u001b[0mentrystop\u001b[0m\u001b[0;34m=\u001b[0m\u001b[0;32mNone\u001b[0m\u001b[0;34m,\u001b[0m \u001b[0mflatten\u001b[0m\u001b[0;34m=\u001b[0m\u001b[0;32mTrue\u001b[0m\u001b[0;34m,\u001b[0m \u001b[0mflatname\u001b[0m\u001b[0;34m=\u001b[0m\u001b[0;32mNone\u001b[0m\u001b[0;34m,\u001b[0m \u001b[0mawkwardlib\u001b[0m\u001b[0;34m=\u001b[0m\u001b[0;32mNone\u001b[0m\u001b[0;34m,\u001b[0m \u001b[0mcache\u001b[0m\u001b[0;34m=\u001b[0m\u001b[0;32mNone\u001b[0m\u001b[0;34m,\u001b[0m \u001b[0mbasketcache\u001b[0m\u001b[0;34m=\u001b[0m\u001b[0;32mNone\u001b[0m\u001b[0;34m,\u001b[0m \u001b[0mkeycache\u001b[0m\u001b[0;34m=\u001b[0m\u001b[0;32mNone\u001b[0m\u001b[0;34m,\u001b[0m \u001b[0mexecutor\u001b[0m\u001b[0;34m=\u001b[0m\u001b[0;32mNone\u001b[0m\u001b[0;34m,\u001b[0m \u001b[0mblocking\u001b[0m\u001b[0;34m=\u001b[0m\u001b[0;32mTrue\u001b[0m\u001b[0;34m)\u001b[0m\u001b[0;34m:\u001b[0m\u001b[0;34m\u001b[0m\u001b[0;34m\u001b[0m\u001b[0m\n",
            "\u001b[0;32m/usr/local/lib/python3.7/dist-packages/uproot3/tree.py\u001b[0m in \u001b[0;36marrays\u001b[0;34m(self, branches, outputtype, namedecode, entrystart, entrystop, flatten, flatname, awkwardlib, cache, basketcache, keycache, executor, blocking, recursive)\u001b[0m\n\u001b[1;32m    588\u001b[0m         \u001b[0;31m# if blocking, return the result of that function; otherwise, the function itself\u001b[0m\u001b[0;34m\u001b[0m\u001b[0;34m\u001b[0m\u001b[0;34m\u001b[0m\u001b[0m\n\u001b[1;32m    589\u001b[0m         \u001b[0;32mif\u001b[0m \u001b[0mblocking\u001b[0m\u001b[0;34m:\u001b[0m\u001b[0;34m\u001b[0m\u001b[0;34m\u001b[0m\u001b[0m\n\u001b[0;32m--> 590\u001b[0;31m             \u001b[0;32mreturn\u001b[0m \u001b[0mwait\u001b[0m\u001b[0;34m(\u001b[0m\u001b[0;34m)\u001b[0m\u001b[0;34m\u001b[0m\u001b[0;34m\u001b[0m\u001b[0m\n\u001b[0m\u001b[1;32m    591\u001b[0m         \u001b[0;32melse\u001b[0m\u001b[0;34m:\u001b[0m\u001b[0;34m\u001b[0m\u001b[0;34m\u001b[0m\u001b[0m\n\u001b[1;32m    592\u001b[0m             \u001b[0;32mreturn\u001b[0m \u001b[0mwait\u001b[0m\u001b[0;34m\u001b[0m\u001b[0;34m\u001b[0m\u001b[0m\n",
            "\u001b[0;32m/usr/local/lib/python3.7/dist-packages/uproot3/tree.py\u001b[0m in \u001b[0;36mwait\u001b[0;34m()\u001b[0m\n\u001b[1;32m    572\u001b[0m             \u001b[0;32mimport\u001b[0m \u001b[0muproot3\u001b[0m\u001b[0;34m.\u001b[0m\u001b[0m_connect\u001b[0m\u001b[0;34m.\u001b[0m\u001b[0m_pandas\u001b[0m\u001b[0;34m\u001b[0m\u001b[0;34m\u001b[0m\u001b[0m\n\u001b[1;32m    573\u001b[0m             \u001b[0;32mdef\u001b[0m \u001b[0mwait\u001b[0m\u001b[0;34m(\u001b[0m\u001b[0;34m)\u001b[0m\u001b[0;34m:\u001b[0m\u001b[0;34m\u001b[0m\u001b[0;34m\u001b[0m\u001b[0m\n\u001b[0;32m--> 574\u001b[0;31m                 \u001b[0;32mreturn\u001b[0m \u001b[0muproot3\u001b[0m\u001b[0;34m.\u001b[0m\u001b[0m_connect\u001b[0m\u001b[0;34m.\u001b[0m\u001b[0m_pandas\u001b[0m\u001b[0;34m.\u001b[0m\u001b[0mfutures2df\u001b[0m\u001b[0;34m(\u001b[0m\u001b[0mfutures\u001b[0m\u001b[0;34m,\u001b[0m \u001b[0moutputtype\u001b[0m\u001b[0;34m,\u001b[0m \u001b[0mentrystart\u001b[0m\u001b[0;34m,\u001b[0m \u001b[0mentrystop\u001b[0m\u001b[0;34m,\u001b[0m \u001b[0mflatten\u001b[0m\u001b[0;34m,\u001b[0m \u001b[0mflatname\u001b[0m\u001b[0;34m,\u001b[0m \u001b[0mawkward0\u001b[0m\u001b[0;34m)\u001b[0m\u001b[0;34m\u001b[0m\u001b[0;34m\u001b[0m\u001b[0m\n\u001b[0m\u001b[1;32m    575\u001b[0m \u001b[0;34m\u001b[0m\u001b[0m\n\u001b[1;32m    576\u001b[0m         \u001b[0;32melif\u001b[0m \u001b[0misinstance\u001b[0m\u001b[0;34m(\u001b[0m\u001b[0moutputtype\u001b[0m\u001b[0;34m,\u001b[0m \u001b[0mtype\u001b[0m\u001b[0;34m)\u001b[0m \u001b[0;32mand\u001b[0m \u001b[0missubclass\u001b[0m\u001b[0;34m(\u001b[0m\u001b[0moutputtype\u001b[0m\u001b[0;34m,\u001b[0m \u001b[0mdict\u001b[0m\u001b[0;34m)\u001b[0m\u001b[0;34m:\u001b[0m\u001b[0;34m\u001b[0m\u001b[0;34m\u001b[0m\u001b[0m\n",
            "\u001b[0;32m/usr/local/lib/python3.7/dist-packages/uproot3/_connect/_pandas.py\u001b[0m in \u001b[0;36mfutures2df\u001b[0;34m(futures, outputtype, entrystart, entrystop, flatten, flatname, awkward0)\u001b[0m\n\u001b[1;32m    125\u001b[0m                 \u001b[0;32melse\u001b[0m\u001b[0;34m:\u001b[0m\u001b[0;34m\u001b[0m\u001b[0;34m\u001b[0m\u001b[0m\n\u001b[1;32m    126\u001b[0m                     \u001b[0;32mif\u001b[0m \u001b[0mstarts\u001b[0m \u001b[0;32mis\u001b[0m \u001b[0;32mnot\u001b[0m \u001b[0marray\u001b[0m\u001b[0;34m.\u001b[0m\u001b[0mstarts\u001b[0m \u001b[0;32mand\u001b[0m \u001b[0;32mnot\u001b[0m \u001b[0mawkward0\u001b[0m\u001b[0;34m.\u001b[0m\u001b[0mnumpy\u001b[0m\u001b[0;34m.\u001b[0m\u001b[0marray_equal\u001b[0m\u001b[0;34m(\u001b[0m\u001b[0mstarts\u001b[0m\u001b[0;34m,\u001b[0m \u001b[0marray\u001b[0m\u001b[0;34m.\u001b[0m\u001b[0mstarts\u001b[0m\u001b[0;34m)\u001b[0m\u001b[0;34m:\u001b[0m\u001b[0;34m\u001b[0m\u001b[0;34m\u001b[0m\u001b[0m\n\u001b[0;32m--> 127\u001b[0;31m                         \u001b[0;32mraise\u001b[0m \u001b[0mValueError\u001b[0m\u001b[0;34m(\u001b[0m\u001b[0;34m\"cannot use flatten=True on branches with different jagged structure, such as electrons and muons (different, variable number of each per event); either explicitly select compatible branches, such as [\\\"MET_*\\\", \\\"Muon_*\\\"] (scalar and variable per event is okay), or set flatten=False\"\u001b[0m\u001b[0;34m)\u001b[0m\u001b[0;34m\u001b[0m\u001b[0;34m\u001b[0m\u001b[0m\n\u001b[0m\u001b[1;32m    128\u001b[0m \u001b[0;34m\u001b[0m\u001b[0m\n\u001b[1;32m    129\u001b[0m                 \u001b[0;32mif\u001b[0m \u001b[0mlen\u001b[0m\u001b[0;34m(\u001b[0m\u001b[0marray\u001b[0m\u001b[0;34m.\u001b[0m\u001b[0mstarts\u001b[0m\u001b[0;34m)\u001b[0m \u001b[0;34m==\u001b[0m \u001b[0;36m0\u001b[0m\u001b[0;34m:\u001b[0m\u001b[0;34m\u001b[0m\u001b[0;34m\u001b[0m\u001b[0m\n",
            "\u001b[0;31mValueError\u001b[0m: cannot use flatten=True on branches with different jagged structure, such as electrons and muons (different, variable number of each per event); either explicitly select compatible branches, such as [\"MET_*\", \"Muon_*\"] (scalar and variable per event is okay), or set flatten=False"
          ]
        }
      ]
    },
    {
      "cell_type": "code",
      "source": [
        "#CRY4\n",
        "df = combine_df(files)\n",
        "store = pd.HDFStore(h5file, mode='w')\n",
        "store['cry4'] = df\n",
        "store.close()"
      ],
      "metadata": {
        "id": "kIHNuAkMLUzg"
      },
      "execution_count": null,
      "outputs": []
    },
    {
      "cell_type": "code",
      "metadata": {
        "colab": {
          "base_uri": "https://localhost:8080/"
        },
        "id": "nFztPBAP3PyL",
        "outputId": "7950f0cf-8386-40e4-a301-b0b144384697"
      },
      "source": [
        "#store\n",
        "!ls -lhrt drive/MyDrive/root_files_cry4/\n"
      ],
      "execution_count": null,
      "outputs": [
        {
          "output_type": "stream",
          "name": "stdout",
          "text": [
            "total 38G\n",
            "-rw------- 1 root root 4.5G Sep  8 23:39 testdf.h5\n",
            "-rw------- 1 root root 848M Sep  9 13:44 ana.amirkhan.RecoMC.cry4v940.092020_17000_lo.root\n",
            "-rw------- 1 root root 839M Sep  9 13:44 ana.amirkhan.RecoMC.cry4v940.092020_15000_lo.root\n",
            "-rw------- 1 root root 848M Sep  9 13:45 ana.amirkhan.RecoMC.cry4v940.092020_13000_lo.root\n",
            "-rw------- 1 root root 843M Sep  9 13:45 ana.amirkhan.RecoMC.cry4v940.092020_11000_lo.root\n",
            "-rw------- 1 root root 895M Sep  9 13:45 ana.amirkhan.RecoMC.cry4v940.092020_17000_hi.root\n",
            "-rw------- 1 root root 895M Sep  9 13:46 ana.amirkhan.RecoMC.cry4v940.092020_15000_hi.root\n",
            "-rw------- 1 root root 890M Sep  9 13:46 ana.amirkhan.RecoMC.cry4v940.092020_13000_hi.root\n",
            "-rw------- 1 root root 895M Sep  9 13:46 ana.amirkhan.RecoMC.cry4v940.092020_11000_hi.root\n",
            "-rw------- 1 root root 2.4G Sep  9 13:47 ana.amirkhan.RecoMC.cry4v940.123020_13000_lo.root\n",
            "-rw------- 1 root root 2.4G Sep  9 13:47 ana.amirkhan.RecoMC.cry4v940.123020_15000_lo.root\n",
            "-rw------- 1 root root 2.4G Sep  9 13:47 ana.amirkhan.RecoMC.cry4v940.123020_17000_lo.root\n",
            "-rw------- 1 root root 2.3G Sep  9 13:49 ana.dzhadan.RecoMC.cry4v940.123020_7000_lo.root\n",
            "-rw------- 1 root root 2.4G Sep  9 13:49 ana.dzhadan.RecoMC.cry4v940.123020_11000_lo.root\n",
            "-rw------- 1 root root 2.4G Sep  9 13:50 ana.dzhadan.RecoMC.cry4v940.123020_9000_lo.root\n",
            "-rw------- 1 root root 831M Sep  9 13:50 ana.dzhadan.RecoMC.cry4v940.092020_7000_lo.root\n",
            "-rw------- 1 root root 838M Sep  9 13:50 ana.dzhadan.RecoMC.cry4v940.092020_9000_lo.root\n",
            "-rw------- 1 root root 890M Sep  9 13:51 ana.dzhadan.RecoMC.cry4v940.092020_7000_hi.root\n",
            "-rw------- 1 root root 895M Sep  9 13:51 ana.dzhadan.RecoMC.cry4v940.092020_9000_hi.root\n",
            "drwx------ 2 root root 4.0K Sep 11 20:57 __pycache__\n",
            "-rw------- 1 root root 7.8K Sep 12 17:22 plotter.py\n",
            "-rw------- 1 root root  33K Sep 15 01:29 DataFrameMaker.ipynb\n",
            "-rw------- 1 root root 3.3G Sep 15 13:40 cry4df.h5\n",
            "-rw------- 1 root root 1.1K Sep 16 03:20 utils.py\n",
            "lrw------- 1 root root    0 Sep 18 01:09 Saved_Data -> /content/drive/.shortcut-targets-by-id/1u33aocSZS_Og2H_QhG2HNlmft0VEwv9t/Saved_Data\n",
            "lrw------- 1 root root    0 Sep 18 04:52 saved_models -> '/content/drive/ '\n",
            "-rw------- 1 root root 890M Sep 20 05:33 ana.dzhadan.RecoMChi.7000.root\n",
            "-rw------- 1 root root 297M Sep 21 04:10 cr3dfml.hd5\n",
            "-rw------- 1 root root 111M Sep 23 14:30 cry4NoCoincidenceDF.h5\n",
            "-rw------- 1 root root 187M Nov 23 20:26 cr4dfml.hd5\n",
            "-rw------- 1 root root 772M Nov 23 20:26 noisedfml.hd5\n",
            "-rw------- 1 root root 3.5G Dec 16 17:49 cry4df_Artem2.h5\n"
          ]
        }
      ]
    },
    {
      "cell_type": "code",
      "source": [
        "store = pd.HDFStore(h5file, mode='w')\n",
        "store['cry4'] = df\n",
        "store.close()"
      ],
      "metadata": {
        "id": "bmKAVjszQ1HK"
      },
      "execution_count": null,
      "outputs": []
    },
    {
      "cell_type": "markdown",
      "metadata": {
        "id": "PlHfRi5ZLLmj"
      },
      "source": [
        "#Load dataframe"
      ]
    },
    {
      "cell_type": "code",
      "metadata": {
        "id": "mU-abhhJLNIc"
      },
      "source": [
        "df = pd.read_hdf(h5file, mode='r')"
      ],
      "execution_count": null,
      "outputs": []
    },
    {
      "cell_type": "code",
      "metadata": {
        "colab": {
          "base_uri": "https://localhost:8080/",
          "height": 513
        },
        "id": "FoBthcBg0MRq",
        "outputId": "7936532c-01ce-4fdc-9f8a-3d0ef72c4820"
      },
      "source": [
        "for l in range(7000,17001,2000):\n",
        "  plt.hist(df.query('is_high==1 & lyield==%i' % l)['crvinfo__PEs'], bins=100, range=(0, 1000), histtype='step');\n",
        "plt.figure()\n",
        "for l in range(7000,17001,2000):\n",
        "  plt.hist(df.query('is_high==0 & lyield==%i' % l)['crvinfo__PEs'], bins=100, range=(0, 1000), histtype='step');\n",
        "plt.figure()\n",
        "plt.hist(df.query('is_high==0 & lyield==%i' % 17000)['_z'], bins=100, range=(-5000, 20000), histtype='step');\n",
        "plt.hist(df.query('is_high==1 & lyield==%i' % 17000)['_z'], bins=100, range=(-5000, 20000), histtype='step');"
      ],
      "execution_count": null,
      "outputs": [
        {
          "output_type": "display_data",
          "data": {
            "image/png": "[encoded data removed]",
            "text/plain": [
              "<Figure size 432x288 with 1 Axes>"
            ]
          },
          "metadata": {
            "needs_background": "light"
          }
        },
        {
          "output_type": "display_data",
          "data": {
            "image/png": "[encoded data removed]",
            "text/plain": [
              "<Figure size 432x288 with 1 Axes>"
            ]
          },
          "metadata": {
            "needs_background": "light"
          }
        }
      ]
    }
  ]
}