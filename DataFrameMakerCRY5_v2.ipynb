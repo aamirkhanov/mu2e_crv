{
  "nbformat": 4,
  "nbformat_minor": 0,
  "metadata": {
    "colab": {
      "name": "DataFrameMakerCRY5_v2.ipynb",
      "provenance": [],
      "collapsed_sections": [],
      "include_colab_link": true
    },
    "kernelspec": {
      "name": "python3",
      "display_name": "Python 3"
    },
    "language_info": {
      "name": "python"
    }
  },
  "cells": [
    {
      "cell_type": "markdown",
      "metadata": {
        "id": "view-in-github",
        "colab_type": "text"
      },
      "source": [
        "<a href=\"https://colab.research.google.com/github/aamirkhanov/mu2e_crv/blob/main/DataFrameMakerCRY5_v2.ipynb\" target=\"_parent\"><img src=\"https://colab.research.google.com/assets/colab-badge.svg\" alt=\"Open In Colab\"/></a>"
      ]
    },
    {
      "cell_type": "code",
      "source": [
        "!apt-get -qq install krb5-user\n",
        "!wget https://authentication.fnal.gov/krb5conf/Linux/krb5.conf\n",
        "import os\n",
        "os.environ['KRB5_CONFIG'] = 'krb5.conf'"
      ],
      "metadata": {
        "id": "bwub-tBNljzf",
        "colab": {
          "base_uri": "https://localhost:8080/"
        },
        "outputId": "68292d2d-0d6f-4bd3-b787-5043f066033f"
      },
      "execution_count": 89,
      "outputs": [
        {
          "output_type": "stream",
          "name": "stdout",
          "text": [
            "^C\n",
            "--2022-08-25 14:41:15--  https://authentication.fnal.gov/krb5conf/Linux/krb5.conf\n",
            "Resolving authentication.fnal.gov (authentication.fnal.gov)... 131.225.105.240, 2620:6a:0:105::105:240\n",
            "Connecting to authentication.fnal.gov (authentication.fnal.gov)|131.225.105.240|:443... connected.\n",
            "HTTP request sent, awaiting response... 200 OK\n",
            "Length: 17486 (17K) [text/plain]\n",
            "Saving to: ‘krb5.conf.1’\n",
            "\n",
            "krb5.conf.1         100%[===================>]  17.08K  --.-KB/s    in 0.03s   \n",
            "\n",
            "2022-08-25 14:41:15 (502 KB/s) - ‘krb5.conf.1’ saved [17486/17486]\n",
            "\n"
          ]
        }
      ]
    },
    {
      "cell_type": "code",
      "source": [
        "!kinit amirkhan@FNAL.GOV"
      ],
      "metadata": {
        "id": "0uIygLPclji8",
        "colab": {
          "base_uri": "https://localhost:8080/"
        },
        "outputId": "05531429-6512-4878-9e0c-eb5a8e9e5007"
      },
      "execution_count": 90,
      "outputs": [
        {
          "output_type": "stream",
          "name": "stdout",
          "text": [
            "Password for amirkhan@FNAL.GOV: \n",
            "kinit: Password read interrupted while getting initial credentials\n"
          ]
        }
      ]
    },
    {
      "cell_type": "code",
      "source": [
        "#!scp -o StrictHostKeyChecking=no -o GSSAPIAuthentication=yes -o GSSAPIDelegateCredentials=yes amirkhan@mu2egpvm03.fnal.gov:/mu2e/data/users/oksuzian/trk.mu2e.CosmicCRYhiSigFiltMix2BBSignal.MDC2020s_perfect_v1_0.root .\n",
        "#!scp -o StrictHostKeyChecking=no -o GSSAPIAuthentication=yes -o GSSAPIDelegateCredentials=yes amirkhan@mu2egpvm03.fnal.gov:/mu2e/data/users/oksuzian/nts.mu2e.CosmicCRYhiSigFiltMix2BBSignal.MDC2020s_perfect_v1_0.tka ."
      ],
      "metadata": {
        "id": "2MvdzGuqkRQ2"
      },
      "execution_count": null,
      "outputs": []
    },
    {
      "cell_type": "code",
      "source": [
        "#!rm -f drive/MyDrive/root_files_cry5/*v1_0_v2*\n",
        "!ls -lrth drive/MyDrive/root_files_cry5/\n",
        "#!ls -lrth\n",
        "#!cp trk.mu2e.CosmicCRYhiSigFiltMix2BBSignal.MDC2020s_perfect_v1_0_v2.h5 drive/MyDrive/root_files_cry5/"
      ],
      "metadata": {
        "colab": {
          "base_uri": "https://localhost:8080/"
        },
        "id": "gk4CO79hl-L5",
        "outputId": "603f3a5f-a770-4891-b2c2-cbeec1c24a6f"
      },
      "execution_count": 92,
      "outputs": [
        {
          "output_type": "stream",
          "name": "stdout",
          "text": [
            "total 11G\n",
            "-rw------- 1 root root  38M Apr 25 21:18 ana.mu2e.CosmicCRYTriggered.v5hiMinRangeRegionCuts.root\n",
            "-rw------- 1 root root 4.5G May  4 03:23 cry4df.h5\n",
            "-rw------- 1 root root 157M May 19 14:18 trkanaCosmicCRYonRecoTriggered010722.root\n",
            "-rw------- 1 root root  72M May 19 14:19 cry5df_perfect_v1_0.h5\n",
            "-rw------- 1 root root 436M May 20 18:14 trk.mu2e.CosmicCRYloOnSpillSignal.MDC2020r_perfect_v1_0.root\n",
            "-rw------- 1 root root 1.2G May 22 02:16 trk.mu2e.CeEndpointMix1BBSignal.MDC2020r_perfect_v1_0.root\n",
            "-rw------- 1 root root 325M May 22 16:48 cry5df.h5\n",
            "-rw------- 1 root root 1.4G May 26 15:27 trk.mu2e.CeEndpointMix1BBSignal.MDC2020r_perfect_v1_0.h5\n",
            "-rw------- 1 root root 1.5G Jun  2 04:17 trk.mu2e.CeEndpointMix2BBSignal.MDC2020r_perfect_v1_0.root\n",
            "-rw------- 1 root root 457M Jun  2 16:29 trk.mu2e.CeEndpointMix2BBSignal.MDC2020r_perfect_v1_0.h5\n",
            "-rw------- 1 root root 140M Jun  6 13:48 trk.mu2e.CosmicCRYhiOnSpillSignal.MDC2020r_perfect_v1_0.root\n",
            "-rw------- 1 root root 218M Jun  6 13:52 trk.mu2e.CosmicCRYOnSpillSignal.MDC2020r_perfect_v1_0.h5\n",
            "-rw------- 1 root root 137M Jun 29 03:28 trk.mu2e.CosmicCRYhiSigFiltMix2BBSignal.MDC2020s_perfect_v1_0.root\n",
            "-rw------- 1 root root  31M Aug 25 14:04 trk.mu2e.CosmicCRYhiSigFiltMix2BBSignal.MDC2020s_perfect_v1_0.h5\n",
            "-rw------- 1 root root 111M Aug 25 14:26 trk.mu2e.CosmicCRYhiSigFiltMix2BBSignal.MDC2020s_perfect_v1_0_v2.h5\n"
          ]
        }
      ]
    },
    {
      "cell_type": "markdown",
      "metadata": {
        "id": "gV8ecMDtDXkE"
      },
      "source": [
        "# Init and define function"
      ]
    },
    {
      "cell_type": "code",
      "metadata": {
        "colab": {
          "base_uri": "https://localhost:8080/"
        },
        "id": "1cYjEx76DYCd",
        "outputId": "0f42cefd-7d05-4d2e-bf3c-32d9cee6f9c7"
      },
      "source": [
        "import sys\n",
        "import matplotlib.pyplot as plt\n",
        "%pip -q install uproot3\n",
        "%pip -q install --upgrade tables\n",
        "import uproot3\n",
        "import pandas as pd\n",
        "import numpy as np\n",
        "\n",
        "DATASET='CE2S'\n",
        "\n",
        "if DATASET=='CRY4':\n",
        "  h5file='drive/MyDrive/root_files_cry5/cry4df.h5'\n",
        "  files_root = {                  \n",
        "        'drive/MyDrive/root_files_cry4/ana.dzhadan.RecoMC.cry4v940.092020_7000_lo.root': [7000, 0],\n",
        "        'drive/MyDrive/root_files_cry4/ana.dzhadan.RecoMC.cry4v940.123020_7000_lo.root': [7000, 0],\n",
        "        'drive/MyDrive/root_files_cry4/ana.dzhadan.RecoMC.cry4v940.092020_9000_lo.root': [9000, 0],\n",
        "        'drive/MyDrive/root_files_cry4/ana.dzhadan.RecoMC.cry4v940.123020_9000_lo.root': [9000, 0],         \n",
        "        'drive/MyDrive/root_files_cry4/ana.amirkhan.RecoMC.cry4v940.092020_11000_lo.root': [11000, 0],\n",
        "        'drive/MyDrive/root_files_cry4/ana.dzhadan.RecoMC.cry4v940.123020_11000_lo.root': [11000, 0],         \n",
        "        'drive/MyDrive/root_files_cry4/ana.amirkhan.RecoMC.cry4v940.092020_13000_lo.root': [13000, 0],\n",
        "        'drive/MyDrive/root_files_cry4/ana.amirkhan.RecoMC.cry4v940.123020_13000_lo.root': [13000, 0],\n",
        "        'drive/MyDrive/root_files_cry4/ana.amirkhan.RecoMC.cry4v940.092020_15000_lo.root': [15000, 0],\n",
        "        'drive/MyDrive/root_files_cry4/ana.amirkhan.RecoMC.cry4v940.123020_15000_lo.root': [15000, 0],        \n",
        "        'drive/MyDrive/root_files_cry4/ana.amirkhan.RecoMC.cry4v940.092020_17000_lo.root': [17000, 0],\n",
        "        'drive/MyDrive/root_files_cry4/ana.amirkhan.RecoMC.cry4v940.123020_17000_lo.root': [17000, 0],\n",
        "        \n",
        "        'drive/MyDrive/root_files_cry4/ana.dzhadan.RecoMC.cry4v940.092020_7000_hi.root': [7000, 1],\n",
        "        'drive/MyDrive/root_files_cry4/ana.dzhadan.RecoMC.cry4v940.092020_9000_hi.root': [9000, 1],\n",
        "        'drive/MyDrive/root_files_cry4/ana.amirkhan.RecoMC.cry4v940.092020_11000_hi.root': [11000, 1],\n",
        "        'drive/MyDrive/root_files_cry4/ana.amirkhan.RecoMC.cry4v940.092020_13000_hi.root': [13000, 1],\n",
        "        'drive/MyDrive/root_files_cry4/ana.amirkhan.RecoMC.cry4v940.092020_15000_hi.root': [15000, 1],\n",
        "        'drive/MyDrive/root_files_cry4/ana.amirkhan.RecoMC.cry4v940.092020_17000_hi.root': [17000, 1],\n",
        "        }\n",
        "elif DATASET=='CRY5':\n",
        "  h5file='drive/MyDrive/root_files_cry5/trk.mu2e.CosmicCRYOnSpillSignal.MDC2020r_perfect_v1_0.h5'\n",
        "  files_root={                  \n",
        "    'drive/MyDrive/root_files_cry5/trk.mu2e.CosmicCRYloOnSpillSignal.MDC2020r_perfect_v1_0.root': [17000, 0],\n",
        "    'drive/MyDrive/root_files_cry5/trk.mu2e.CosmicCRYhiOnSpillSignal.MDC2020r_perfect_v1_0.root': [17000, 1],\n",
        "    }\n",
        "elif DATASET=='CE1B':\n",
        "  h5file='drive/MyDrive/root_files_cry5/trk.mu2e.CeEndpointMix1BBSignal.MDC2020r_perfect_v1_0.h5'\n",
        "  files_root={                  \n",
        "    'drive/MyDrive/root_files_cry5/trk.mu2e.CeEndpointMix1BBSignal.MDC2020r_perfect_v1_0.root': [17000, -1],\n",
        "  }\n",
        "elif DATASET=='CE2B':\n",
        "  h5file='drive/MyDrive/root_files_cry5/trk.mu2e.CeEndpointMix2BBSignal.MDC2020r_perfect_v1_0.h5'\n",
        "  files_root={                  \n",
        "    'drive/MyDrive/root_files_cry5/trk.mu2e.CeEndpointMix2BBSignal.MDC2020r_perfect_v1_0.root': [17000, -1],\n",
        "  }\n",
        "elif DATASET=='CE2S':\n",
        "  #h5file='drive/MyDrive/root_files_cry5/trk.mu2e.CosmicCRYhiSigFiltMix2BBSignal.MDC2020s_perfect_v1_0.h5'\n",
        "  h5file='drive/MyDrive/root_files_cry5/trk.mu2e.CosmicCRYhiSigFiltMix2BBSignal.MDC2020s_perfect_v1_0_v2.h5'\n",
        "  #h5file='trk.mu2e.CosmicCRYhiSigFiltMix2BBSignal.MDC2020s_perfect_v1_0_v2.h5'\n",
        "  files_root={      \n",
        "    'nts.mu2e.CosmicCRYhiSigFiltMix2BBSignal.MDC2020s_perfect_v1_0.tka' : [17000, 1],              \n",
        "    #'drive/MyDrive/root_files_cry5/trk.mu2e.CosmicCRYhiSigFiltMix2BBSignal.MDC2020s_perfect_v1_0.root': [17000, 1],\n",
        "  }\n",
        "else:\n",
        "  raise ValueError('Unknown dataset')\n",
        "\n",
        "# This allows you to run on Colaboratory and load files from your Google Drive\n",
        "try:\n",
        "    from google.colab import drive\n",
        "    drive.mount(\"/content/drive\")\n",
        "    main_path = '/content/drive/MyDrive/'\n",
        "except:\n",
        "    main_path = ''\n",
        "sys.path.append(main_path)"
      ],
      "execution_count": 1,
      "outputs": [
        {
          "output_type": "stream",
          "name": "stdout",
          "text": [
            "Drive already mounted at /content/drive; to attempt to forcibly remount, call drive.mount(\"/content/drive\", force_remount=True).\n"
          ]
        }
      ]
    },
    {
      "cell_type": "code",
      "metadata": {
        "id": "FJetvMcrI-Pe"
      },
      "source": [
        "def default_flatname(branchname, fieldname, index):\n",
        "    \"\"\"This replaces the dot in the column names with underscores\"\"\"\n",
        "    out = branchname.replace(\".\", \"_\")\n",
        "    if not isinstance(branchname, str):\n",
        "        out = branchname.decode(\"utf-8\")\n",
        "    if fieldname is not None:\n",
        "        fieldname.replace(\".\", \"_\")\n",
        "        out += \"_\" + fieldname\n",
        "    if index != ():\n",
        "        out += \"[\" + \"][\".join(str(x) for x in index) + \"]\"\n",
        "    return out"
      ],
      "execution_count": 2,
      "outputs": []
    },
    {
      "cell_type": "code",
      "source": [
        "file = uproot3.open(list(files_root.keys())[0])\n",
        "trkana = file[\"TrkAnaNeg\"][\"trkana\"]\n",
        "#trkana.pandas.df(['debestcrv.*'], flatname=default_flatname, flatten=True)\n",
        "trkana.pandas.df(['debestcrv*'])\n",
        "\n",
        "#list(trkana.keys())"
      ],
      "metadata": {
        "colab": {
          "base_uri": "https://localhost:8080/",
          "height": 438
        },
        "id": "yHL0spbMeNLB",
        "outputId": "63cc8537-25b0-4918-b57c-c90c596f9062"
      },
      "execution_count": 34,
      "outputs": [
        {
          "output_type": "execute_result",
          "data": {
            "text/plain": [
              "Empty DataFrame\n",
              "Columns: []\n",
              "Index: [0, 1, 2, 3, 4, 5, 6, 7, 8, 9, 10, 11, 12, 13, 14, 15, 16, 17, 18, 19, 20, 21, 22, 23, 24, 25, 26, 27, 28, 29, 30, 31, 32, 33, 34, 35, 36, 37, 38, 39, 40, 41, 42, 43, 44, 45, 46, 47, 48, 49, 50, 51, 52, 53, 54, 55, 56, 57, 58, 59, 60, 61, 62, 63, 64, 65, 66, 67, 68, 69, 70, 71, 72, 73, 74, 75, 76, 77, 78, 79, 80, 81, 82, 83, 84, 85, 86, 87, 88, 89, 90, 91, 92, 93, 94, 95, 96, 97, 98, 99, ...]\n",
              "\n",
              "[62661 rows x 0 columns]"
            ],
            "text/html": [
              "\n",
              "  <div id=\"df-3711eb94-99b5-4ccf-a033-07bcf6b9e872\">\n",
              "    <div class=\"colab-df-container\">\n",
              "      <div>\n",
              "<style scoped>\n",
              "    .dataframe tbody tr th:only-of-type {\n",
              "        vertical-align: middle;\n",
              "    }\n",
              "\n",
              "    .dataframe tbody tr th {\n",
              "        vertical-align: top;\n",
              "    }\n",
              "\n",
              "    .dataframe thead th {\n",
              "        text-align: right;\n",
              "    }\n",
              "</style>\n",
              "<table border=\"1\" class=\"dataframe\">\n",
              "  <thead>\n",
              "    <tr style=\"text-align: right;\">\n",
              "      <th></th>\n",
              "    </tr>\n",
              "    <tr>\n",
              "      <th>entry</th>\n",
              "    </tr>\n",
              "  </thead>\n",
              "  <tbody>\n",
              "    <tr>\n",
              "      <th>0</th>\n",
              "    </tr>\n",
              "    <tr>\n",
              "      <th>1</th>\n",
              "    </tr>\n",
              "    <tr>\n",
              "      <th>2</th>\n",
              "    </tr>\n",
              "    <tr>\n",
              "      <th>3</th>\n",
              "    </tr>\n",
              "    <tr>\n",
              "      <th>4</th>\n",
              "    </tr>\n",
              "    <tr>\n",
              "      <th>...</th>\n",
              "    </tr>\n",
              "    <tr>\n",
              "      <th>62656</th>\n",
              "    </tr>\n",
              "    <tr>\n",
              "      <th>62657</th>\n",
              "    </tr>\n",
              "    <tr>\n",
              "      <th>62658</th>\n",
              "    </tr>\n",
              "    <tr>\n",
              "      <th>62659</th>\n",
              "    </tr>\n",
              "    <tr>\n",
              "      <th>62660</th>\n",
              "    </tr>\n",
              "  </tbody>\n",
              "</table>\n",
              "<p>62661 rows × 0 columns</p>\n",
              "</div>\n",
              "      <button class=\"colab-df-convert\" onclick=\"convertToInteractive('df-3711eb94-99b5-4ccf-a033-07bcf6b9e872')\"\n",
              "              title=\"Convert this dataframe to an interactive table.\"\n",
              "              style=\"display:none;\">\n",
              "        \n",
              "  <svg xmlns=\"http://www.w3.org/2000/svg\" height=\"24px\"viewBox=\"0 0 24 24\"\n",
              "       width=\"24px\">\n",
              "    <path d=\"M0 0h24v24H0V0z\" fill=\"none\"/>\n",
              "    <path d=\"M18.56 5.44l.94 2.06.94-2.06 2.06-.94-2.06-.94-.94-2.06-.94 2.06-2.06.94zm-11 1L8.5 8.5l.94-2.06 2.06-.94-2.06-.94L8.5 2.5l-.94 2.06-2.06.94zm10 10l.94 2.06.94-2.06 2.06-.94-2.06-.94-.94-2.06-.94 2.06-2.06.94z\"/><path d=\"M17.41 7.96l-1.37-1.37c-.4-.4-.92-.59-1.43-.59-.52 0-1.04.2-1.43.59L10.3 9.45l-7.72 7.72c-.78.78-.78 2.05 0 2.83L4 21.41c.39.39.9.59 1.41.59.51 0 1.02-.2 1.41-.59l7.78-7.78 2.81-2.81c.8-.78.8-2.07 0-2.86zM5.41 20L4 18.59l7.72-7.72 1.47 1.35L5.41 20z\"/>\n",
              "  </svg>\n",
              "      </button>\n",
              "      \n",
              "  <style>\n",
              "    .colab-df-container {\n",
              "      display:flex;\n",
              "      flex-wrap:wrap;\n",
              "      gap: 12px;\n",
              "    }\n",
              "\n",
              "    .colab-df-convert {\n",
              "      background-color: #E8F0FE;\n",
              "      border: none;\n",
              "      border-radius: 50%;\n",
              "      cursor: pointer;\n",
              "      display: none;\n",
              "      fill: #1967D2;\n",
              "      height: 32px;\n",
              "      padding: 0 0 0 0;\n",
              "      width: 32px;\n",
              "    }\n",
              "\n",
              "    .colab-df-convert:hover {\n",
              "      background-color: #E2EBFA;\n",
              "      box-shadow: 0px 1px 2px rgba(60, 64, 67, 0.3), 0px 1px 3px 1px rgba(60, 64, 67, 0.15);\n",
              "      fill: #174EA6;\n",
              "    }\n",
              "\n",
              "    [theme=dark] .colab-df-convert {\n",
              "      background-color: #3B4455;\n",
              "      fill: #D2E3FC;\n",
              "    }\n",
              "\n",
              "    [theme=dark] .colab-df-convert:hover {\n",
              "      background-color: #434B5C;\n",
              "      box-shadow: 0px 1px 3px 1px rgba(0, 0, 0, 0.15);\n",
              "      filter: drop-shadow(0px 1px 2px rgba(0, 0, 0, 0.3));\n",
              "      fill: #FFFFFF;\n",
              "    }\n",
              "  </style>\n",
              "\n",
              "      <script>\n",
              "        const buttonEl =\n",
              "          document.querySelector('#df-3711eb94-99b5-4ccf-a033-07bcf6b9e872 button.colab-df-convert');\n",
              "        buttonEl.style.display =\n",
              "          google.colab.kernel.accessAllowed ? 'block' : 'none';\n",
              "\n",
              "        async function convertToInteractive(key) {\n",
              "          const element = document.querySelector('#df-3711eb94-99b5-4ccf-a033-07bcf6b9e872');\n",
              "          const dataTable =\n",
              "            await google.colab.kernel.invokeFunction('convertToInteractive',\n",
              "                                                     [key], {});\n",
              "          if (!dataTable) return;\n",
              "\n",
              "          const docLinkHtml = 'Like what you see? Visit the ' +\n",
              "            '<a target=\"_blank\" href=https://colab.research.google.com/notebooks/data_table.ipynb>data table notebook</a>'\n",
              "            + ' to learn more about interactive tables.';\n",
              "          element.innerHTML = '';\n",
              "          dataTable['output_type'] = 'display_data';\n",
              "          await google.colab.output.renderOutput(dataTable, element);\n",
              "          const docLink = document.createElement('div');\n",
              "          docLink.innerHTML = docLinkHtml;\n",
              "          element.appendChild(docLink);\n",
              "        }\n",
              "      </script>\n",
              "    </div>\n",
              "  </div>\n",
              "  "
            ]
          },
          "metadata": {},
          "execution_count": 34
        }
      ]
    },
    {
      "cell_type": "code",
      "source": [
        "'''\n",
        "file = uproot3.open(list(files_root.keys())[0])\n",
        "trkana = file[\"TrkAnaNeg\"][\"trkana\"]\n",
        "df_eve = trkana.pandas.df(['evtinfo.*', 'evtinfomc.*', 'de.*', 'deent*', 'dequal.*', 'demc.*', 'demcgen.*', 'demcpri.*', 'ue.*', 'crvsummary.*', 'crvsummarymc.*', '_*', \"detrkpid.*\"], flatname=default_flatname, flatten=True)\n",
        "df_crv = trkana.pandas.df(['crvinfo.*', 'crvinfomc.*','bestcrv*'], flatname=default_flatname, flatten=True)\n",
        "df_crv.columns = df_crv.columns.str.replace('bestcrv', 'crvinfo')\n",
        "df_eve[\"deent_mom\"] = pow(pow(df_eve[\"deent_mom_fCoordinates_fX\"],2) + pow(df_eve[\"deent_mom_fCoordinates_fY\"],2) + pow(df_eve[\"deent_mom_fCoordinates_fZ\"],2),0.5)\n",
        "df_eve[\"demcpri_mom\"] = pow(pow(df_eve[\"demcpri_mom_fCoordinates_fX\"],2) + pow(df_eve[\"demcpri_mom_fCoordinates_fY\"],2) + pow(df_eve[\"demcpri_mom_fCoordinates_fZ\"],2),0.5)\n",
        "\n",
        "pd.merge(df_eve, df_crv, how=\"left\", on='entry')\n",
        "df = df_eve.merge(df_crv, how=\"left\", on=\"entry\")\n",
        "df.columns = df.columns.str.replace('__', '_')\n",
        "df.columns = df.columns.str.replace('_fCoordinates_f', '')\n",
        "df[\"crvinfo_dT\"] = df[\"crvinfo_timeWindowStart\"] - df[\"de_t0\"]\n",
        "\n",
        "list(df)\n",
        "'''"
      ],
      "metadata": {
        "id": "sSnhtTi49aXq",
        "colab": {
          "base_uri": "https://localhost:8080/",
          "height": 107
        },
        "outputId": "a913e7f3-d58d-46d7-bdbc-c99cd4d6257a"
      },
      "execution_count": 95,
      "outputs": [
        {
          "output_type": "execute_result",
          "data": {
            "text/plain": [
              "'\\nfile = uproot3.open(list(files_root.keys())[0])\\ntrkana = file[\"TrkAnaNeg\"][\"trkana\"]\\ndf_eve = trkana.pandas.df([\\'evtinfo.*\\', \\'evtinfomc.*\\', \\'de.*\\', \\'deent*\\', \\'dequal.*\\', \\'demc.*\\', \\'demcgen.*\\', \\'demcpri.*\\', \\'ue.*\\', \\'crvsummary.*\\', \\'crvsummarymc.*\\', \\'_*\\', \"detrkpid.*\"], flatname=default_flatname, flatten=True)\\ndf_crv = trkana.pandas.df([\\'crvinfo.*\\', \\'crvinfomc.*\\',\\'bestcrv*\\'], flatname=default_flatname, flatten=True)\\ndf_crv.columns = df_crv.columns.str.replace(\\'bestcrv\\', \\'crvinfo\\')\\ndf_eve[\"deent_mom\"] = pow(pow(df_eve[\"deent_mom_fCoordinates_fX\"],2) + pow(df_eve[\"deent_mom_fCoordinates_fY\"],2) + pow(df_eve[\"deent_mom_fCoordinates_fZ\"],2),0.5)\\ndf_eve[\"demcpri_mom\"] = pow(pow(df_eve[\"demcpri_mom_fCoordinates_fX\"],2) + pow(df_eve[\"demcpri_mom_fCoordinates_fY\"],2) + pow(df_eve[\"demcpri_mom_fCoordinates_fZ\"],2),0.5)\\n\\npd.merge(df_eve, df_crv, how=\"left\", on=\\'entry\\')\\ndf = df_eve.merge(df_crv, how=\"left\", on=\"entry\")\\ndf.columns = df.columns.str.replace(\\'__\\', \\'_\\')\\ndf.columns = df.columns.str.replace(\\'_fCoordinates_f\\', \\'\\')\\ndf[\"crvinfo_dT\"] = df[\"crvinfo_timeWindowStart\"] - df[\"de_t0\"]\\n\\nlist(df)\\n'"
            ],
            "application/vnd.google.colaboratory.intrinsic+json": {
              "type": "string"
            }
          },
          "metadata": {},
          "execution_count": 95
        }
      ]
    },
    {
      "cell_type": "code",
      "metadata": {
        "id": "HtOd-HS3JopR"
      },
      "source": [
        "def make_df(trkana, tag_high, lyield):\n",
        "\n",
        "  if DATASET=='CRY4':\n",
        "    df_eve = trkana.pandas.df(['evtinfo.', 'de', 'deent', 'dequal', 'demc', 'demcgen', 'trigbits', 'ue', 'crvsummary.*', '_*', \"detrkpid.*\"], flatname=default_flatname, flatten=True)\n",
        "    df_crv = trkana.pandas.df(['crvinfo.*', 'crvinfomc.*', 'bestcrv*'], flatname=default_flatname, flatten=True)\n",
        "    df_crv = df_crv[df_crv.index.get_level_values('subentry') == df_crv[\"bestcrv\"]]\n",
        "    df_eve[\"deent_maxr\"] = df_eve[\"deent_d0\"]+2.0/df_eve[\"deent_om\"]\n",
        "    df_eve[\"is_triggered\"] = (df_eve[\"trigbits\"].values & 0x208) > 0\n",
        "  else: \n",
        "    df_eve = trkana.pandas.df(['evtinfo.*', 'evtinfomc.*', 'de.*', 'deent*', 'dequal.*', 'demc.*', 'demcgen.*', 'demcpri.*', 'ue.*', 'crvsummary.*', 'crvsummarymc.*', '_*', \"detrkpid.*\"], flatname=default_flatname, flatten=True)\n",
        "    #df_crv = trkana.pandas.df(['crvinfo.*', 'crvinfomc.*','bestcrv*'], flatname=default_flatname, flatten=True)\n",
        "    df_crv = trkana.pandas.df(['crvinfomc.*', 'debestcrv*'], flatname=default_flatname, flatten=True)\n",
        "    df_crv.columns = df_crv.columns.str.replace('debestcrv', 'crvinfo')\n",
        "    df_eve[\"deent_mom\"] = pow(pow(df_eve[\"deent_mom_fCoordinates_fX\"],2) + pow(df_eve[\"deent_mom_fCoordinates_fY\"],2) + pow(df_eve[\"deent_mom_fCoordinates_fZ\"],2),0.5)\n",
        "    df_eve[\"demcpri_mom\"] = pow(pow(df_eve[\"demcpri_mom_fCoordinates_fX\"],2) + pow(df_eve[\"demcpri_mom_fCoordinates_fY\"],2) + pow(df_eve[\"demcpri_mom_fCoordinates_fZ\"],2),0.5)\n",
        "\n",
        "  pd.merge(df_eve, df_crv, how=\"left\", on='entry')\n",
        "  df = df_eve.merge(df_crv, how=\"left\", on=\"entry\")\n",
        "  df.columns = df.columns.str.replace('__', '_')\n",
        "  df.columns = df.columns.str.replace('_fCoordinates_f', '')\n",
        "\n",
        "  df['is_high'] = tag_high\n",
        "  df['lyield'] = int(lyield)\n",
        "  df[\"crvinfo_dT\"] = df[\"crvinfo_timeWindowStart\"] - df[\"de_t0\"]\n",
        "  df[\"crvinfo_dTe\"] = df[\"crvinfo_timeWindowEnd\"] - df[\"de_t0\"]\n",
        "  df = df.fillna(-999999)\n",
        "  return df"
      ],
      "execution_count": 11,
      "outputs": []
    },
    {
      "cell_type": "code",
      "metadata": {
        "id": "PTjQqDcMtC4c"
      },
      "source": [
        "def combine_df(files):\n",
        "    \n",
        "  df = pd.DataFrame()\n",
        "  for f in files:\n",
        "      print(\"Reading file\", f, files[f][0], files[f][1])\n",
        "      file = uproot3.open(f)\n",
        "      trkana = file[\"TrkAnaNeg\"][\"trkana\"]\n",
        "      df_ = make_df(trkana, files[f][1], files[f][0])\n",
        "      df_ = df_.filter(regex=var_str)\n",
        "      df = df.append(df_)\n",
        "  df = df.loc[:,~df.columns.duplicated()]  # delete duplicate colummns\n",
        "  return df    "
      ],
      "execution_count": 4,
      "outputs": []
    },
    {
      "cell_type": "markdown",
      "metadata": {
        "id": "Cf75-mHNKVQe"
      },
      "source": [
        "#Variables list to save in df"
      ]
    },
    {
      "cell_type": "code",
      "metadata": {
        "id": "s3aWu2ZTFVSm"
      },
      "source": [
        "var_list=[\n",
        " 'evtinfo_eventid',\n",
        " 'evtinfo_subrunid',\n",
        " 'evtinfomc_nprotons',\n",
        " 'de_status',\n",
        " 'de_pdg',\n",
        " 'de_nhits',\n",
        " 'de_t0',\n",
        " 'deent_mom',\n",
        " 'deent_d0',\n",
        " 'deent_p0',\n",
        " 'deent_z0',\n",
        " 'deent_td',\n",
        " 'dequal_TrkPID',\n",
        " 'dequal_TrkQual',\n",
        " 'detrkpid',\n",
        " 'demc_pdg',\n",
        " 'demc_gen',\n",
        " 'demcgen_pdg',\n",
        " 'demcgen_gen',\n",
        " 'demcgen_posx',\n",
        " 'demcgen_posy',\n",
        " 'demcgen_posz',\n",
        " 'demcgen_momx',\n",
        " 'demcgen_momy',\n",
        " 'demcgen_momz',\n",
        " 'demcpri_posX',\n",
        " 'demcpri_posY',\n",
        " 'demcpri_posZ',\n",
        " 'demcpri_posZ',\n",
        " 'demcpri_pdg',\n",
        " 'demcpri_mom',\n",
        " 'trigbits',\n",
        " 'ue_status',\n",
        " 'ue_nhits',\n",
        " '_totalPEs',\n",
        " '_nHitCounters',\n",
        " '_totalEnergyDeposited',\n",
        " '_x',\n",
        " '_y',\n",
        " '_z',\n",
        " '_pdgId',\n",
        " '_crvSectorNumber',\n",
        " '_crvSectorType',\n",
        " 'crvsummary_totalPEs',\n",
        " 'crvsummary_nHitCounters',\n",
        " 'crvsummarymc_totalEnergyDeposited',\n",
        " 'crvsummarymc_x',\n",
        " 'crvsummarymc_y',\n",
        " 'crvsummarymc_z',\n",
        " 'crvsummarymc_pdgId',\n",
        " 'crvsummarymc_crvSectorNumber',\n",
        " 'crvsummarymc_crvSectorType',\n",
        " 'crvinfo_crvSectorType',\n",
        " 'crvinfo_x',\n",
        " 'crvinfo_y',\n",
        " 'crvinfo_z',\n",
        " 'crvinfo_PEs',\n",
        " 'crvinfo_timeWindowStart',\n",
        " 'crvinfo_timeWindowEnd',\n",
        " 'crvinfo_angle',\n",
        " 'crvinfo_nCoincidenceHits',\n",
        " 'crvinfo_nCoincidenceLayers',\n",
        " 'crvinfomc',\n",
        " 'bestcrv',\n",
        " 'is_high',\n",
        " 'lyield',\n",
        " 'crvinfo_dT',\n",
        " 'crvinfo_dTe',\n",
        " 'deent_maxr',\n",
        " 'is_triggered']\n",
        "\n",
        "var_str='('\n",
        "for var in var_list:\n",
        "  if var == \"detrkpid\":\n",
        "    var_str=var_str+var+'|'\n",
        "  elif var == 'crvinfomc':\n",
        "    var_str=var_str+var+'|'\n",
        "  else: \n",
        "    var_str=var_str+var+'$|'\n",
        "\n",
        "var_str=var_str[:-1]+')'"
      ],
      "execution_count": 5,
      "outputs": []
    },
    {
      "cell_type": "markdown",
      "metadata": {
        "id": "O0f2Gwg3uAZD"
      },
      "source": [
        "# Save dataframe"
      ]
    },
    {
      "cell_type": "code",
      "source": [
        "df = combine_df(files_root)\n",
        "df.to_hdf(h5file, key=DATASET)"
      ],
      "metadata": {
        "colab": {
          "base_uri": "https://localhost:8080/",
          "height": 461
        },
        "id": "7_Ksy89NB_P3",
        "outputId": "a2cca4f3-b369-4713-8c3c-5e0fd5783a21"
      },
      "execution_count": 12,
      "outputs": [
        {
          "output_type": "stream",
          "name": "stdout",
          "text": [
            "Reading file nts.mu2e.CosmicCRYhiSigFiltMix2BBSignal.MDC2020s_perfect_v1_0.tka 17000 1\n"
          ]
        },
        {
          "output_type": "error",
          "ename": "KeyError",
          "evalue": "ignored",
          "traceback": [
            "\u001b[0;31m---------------------------------------------------------------------------\u001b[0m",
            "\u001b[0;31mKeyError\u001b[0m                                  Traceback (most recent call last)",
            "\u001b[0;32m/usr/local/lib/python3.7/dist-packages/pandas/core/indexes/base.py\u001b[0m in \u001b[0;36mget_loc\u001b[0;34m(self, key, method, tolerance)\u001b[0m\n\u001b[1;32m   3360\u001b[0m             \u001b[0;32mtry\u001b[0m\u001b[0;34m:\u001b[0m\u001b[0;34m\u001b[0m\u001b[0;34m\u001b[0m\u001b[0m\n\u001b[0;32m-> 3361\u001b[0;31m                 \u001b[0;32mreturn\u001b[0m \u001b[0mself\u001b[0m\u001b[0;34m.\u001b[0m\u001b[0m_engine\u001b[0m\u001b[0;34m.\u001b[0m\u001b[0mget_loc\u001b[0m\u001b[0;34m(\u001b[0m\u001b[0mcasted_key\u001b[0m\u001b[0;34m)\u001b[0m\u001b[0;34m\u001b[0m\u001b[0;34m\u001b[0m\u001b[0m\n\u001b[0m\u001b[1;32m   3362\u001b[0m             \u001b[0;32mexcept\u001b[0m \u001b[0mKeyError\u001b[0m \u001b[0;32mas\u001b[0m \u001b[0merr\u001b[0m\u001b[0;34m:\u001b[0m\u001b[0;34m\u001b[0m\u001b[0;34m\u001b[0m\u001b[0m\n",
            "\u001b[0;32m/usr/local/lib/python3.7/dist-packages/pandas/_libs/index.pyx\u001b[0m in \u001b[0;36mpandas._libs.index.IndexEngine.get_loc\u001b[0;34m()\u001b[0m\n",
            "\u001b[0;32m/usr/local/lib/python3.7/dist-packages/pandas/_libs/index.pyx\u001b[0m in \u001b[0;36mpandas._libs.index.IndexEngine.get_loc\u001b[0;34m()\u001b[0m\n",
            "\u001b[0;32m/usr/local/lib/python3.7/dist-packages/pandas/_libs/index.pyx\u001b[0m in \u001b[0;36mpandas._libs.index.IndexEngine._get_loc_duplicates\u001b[0;34m()\u001b[0m\n",
            "\u001b[0;32m/usr/local/lib/python3.7/dist-packages/pandas/_libs/index.pyx\u001b[0m in \u001b[0;36mpandas._libs.index.IndexEngine._maybe_get_bool_indexer\u001b[0;34m()\u001b[0m\n",
            "\u001b[0;32m/usr/local/lib/python3.7/dist-packages/pandas/_libs/index.pyx\u001b[0m in \u001b[0;36mpandas._libs.index.IndexEngine._unpack_bool_indexer\u001b[0;34m()\u001b[0m\n",
            "\u001b[0;31mKeyError\u001b[0m: 'crvinfo_timeWindowStart'",
            "\nThe above exception was the direct cause of the following exception:\n",
            "\u001b[0;31mKeyError\u001b[0m                                  Traceback (most recent call last)",
            "\u001b[0;32m<ipython-input-12-89ab06aeac86>\u001b[0m in \u001b[0;36m<module>\u001b[0;34m\u001b[0m\n\u001b[0;32m----> 1\u001b[0;31m \u001b[0mdf\u001b[0m \u001b[0;34m=\u001b[0m \u001b[0mcombine_df\u001b[0m\u001b[0;34m(\u001b[0m\u001b[0mfiles_root\u001b[0m\u001b[0;34m)\u001b[0m\u001b[0;34m\u001b[0m\u001b[0;34m\u001b[0m\u001b[0m\n\u001b[0m\u001b[1;32m      2\u001b[0m \u001b[0mdf\u001b[0m\u001b[0;34m.\u001b[0m\u001b[0mto_hdf\u001b[0m\u001b[0;34m(\u001b[0m\u001b[0mh5file\u001b[0m\u001b[0;34m,\u001b[0m \u001b[0mkey\u001b[0m\u001b[0;34m=\u001b[0m\u001b[0mDATASET\u001b[0m\u001b[0;34m)\u001b[0m\u001b[0;34m\u001b[0m\u001b[0;34m\u001b[0m\u001b[0m\n",
            "\u001b[0;32m<ipython-input-4-652dbf9dff49>\u001b[0m in \u001b[0;36mcombine_df\u001b[0;34m(files)\u001b[0m\n\u001b[1;32m      6\u001b[0m       \u001b[0mfile\u001b[0m \u001b[0;34m=\u001b[0m \u001b[0muproot3\u001b[0m\u001b[0;34m.\u001b[0m\u001b[0mopen\u001b[0m\u001b[0;34m(\u001b[0m\u001b[0mf\u001b[0m\u001b[0;34m)\u001b[0m\u001b[0;34m\u001b[0m\u001b[0;34m\u001b[0m\u001b[0m\n\u001b[1;32m      7\u001b[0m       \u001b[0mtrkana\u001b[0m \u001b[0;34m=\u001b[0m \u001b[0mfile\u001b[0m\u001b[0;34m[\u001b[0m\u001b[0;34m\"TrkAnaNeg\"\u001b[0m\u001b[0;34m]\u001b[0m\u001b[0;34m[\u001b[0m\u001b[0;34m\"trkana\"\u001b[0m\u001b[0;34m]\u001b[0m\u001b[0;34m\u001b[0m\u001b[0;34m\u001b[0m\u001b[0m\n\u001b[0;32m----> 8\u001b[0;31m       \u001b[0mdf_\u001b[0m \u001b[0;34m=\u001b[0m \u001b[0mmake_df\u001b[0m\u001b[0;34m(\u001b[0m\u001b[0mtrkana\u001b[0m\u001b[0;34m,\u001b[0m \u001b[0mfiles\u001b[0m\u001b[0;34m[\u001b[0m\u001b[0mf\u001b[0m\u001b[0;34m]\u001b[0m\u001b[0;34m[\u001b[0m\u001b[0;36m1\u001b[0m\u001b[0;34m]\u001b[0m\u001b[0;34m,\u001b[0m \u001b[0mfiles\u001b[0m\u001b[0;34m[\u001b[0m\u001b[0mf\u001b[0m\u001b[0;34m]\u001b[0m\u001b[0;34m[\u001b[0m\u001b[0;36m0\u001b[0m\u001b[0;34m]\u001b[0m\u001b[0;34m)\u001b[0m\u001b[0;34m\u001b[0m\u001b[0;34m\u001b[0m\u001b[0m\n\u001b[0m\u001b[1;32m      9\u001b[0m       \u001b[0mdf_\u001b[0m \u001b[0;34m=\u001b[0m \u001b[0mdf_\u001b[0m\u001b[0;34m.\u001b[0m\u001b[0mfilter\u001b[0m\u001b[0;34m(\u001b[0m\u001b[0mregex\u001b[0m\u001b[0;34m=\u001b[0m\u001b[0mvar_str\u001b[0m\u001b[0;34m)\u001b[0m\u001b[0;34m\u001b[0m\u001b[0;34m\u001b[0m\u001b[0m\n\u001b[1;32m     10\u001b[0m       \u001b[0mdf\u001b[0m \u001b[0;34m=\u001b[0m \u001b[0mdf\u001b[0m\u001b[0;34m.\u001b[0m\u001b[0mappend\u001b[0m\u001b[0;34m(\u001b[0m\u001b[0mdf_\u001b[0m\u001b[0;34m)\u001b[0m\u001b[0;34m\u001b[0m\u001b[0;34m\u001b[0m\u001b[0m\n",
            "\u001b[0;32m<ipython-input-11-f28de1a2cea2>\u001b[0m in \u001b[0;36mmake_df\u001b[0;34m(trkana, tag_high, lyield)\u001b[0m\n\u001b[1;32m     22\u001b[0m   \u001b[0mdf\u001b[0m\u001b[0;34m[\u001b[0m\u001b[0;34m'is_high'\u001b[0m\u001b[0;34m]\u001b[0m \u001b[0;34m=\u001b[0m \u001b[0mtag_high\u001b[0m\u001b[0;34m\u001b[0m\u001b[0;34m\u001b[0m\u001b[0m\n\u001b[1;32m     23\u001b[0m   \u001b[0mdf\u001b[0m\u001b[0;34m[\u001b[0m\u001b[0;34m'lyield'\u001b[0m\u001b[0;34m]\u001b[0m \u001b[0;34m=\u001b[0m \u001b[0mint\u001b[0m\u001b[0;34m(\u001b[0m\u001b[0mlyield\u001b[0m\u001b[0;34m)\u001b[0m\u001b[0;34m\u001b[0m\u001b[0;34m\u001b[0m\u001b[0m\n\u001b[0;32m---> 24\u001b[0;31m   \u001b[0mdf\u001b[0m\u001b[0;34m[\u001b[0m\u001b[0;34m\"crvinfo_dT\"\u001b[0m\u001b[0;34m]\u001b[0m \u001b[0;34m=\u001b[0m \u001b[0mdf\u001b[0m\u001b[0;34m[\u001b[0m\u001b[0;34m\"crvinfo_timeWindowStart\"\u001b[0m\u001b[0;34m]\u001b[0m \u001b[0;34m-\u001b[0m \u001b[0mdf\u001b[0m\u001b[0;34m[\u001b[0m\u001b[0;34m\"de_t0\"\u001b[0m\u001b[0;34m]\u001b[0m\u001b[0;34m\u001b[0m\u001b[0;34m\u001b[0m\u001b[0m\n\u001b[0m\u001b[1;32m     25\u001b[0m   \u001b[0mdf\u001b[0m\u001b[0;34m[\u001b[0m\u001b[0;34m\"crvinfo_dTe\"\u001b[0m\u001b[0;34m]\u001b[0m \u001b[0;34m=\u001b[0m \u001b[0mdf\u001b[0m\u001b[0;34m[\u001b[0m\u001b[0;34m\"crvinfo_timeWindowEnd\"\u001b[0m\u001b[0;34m]\u001b[0m \u001b[0;34m-\u001b[0m \u001b[0mdf\u001b[0m\u001b[0;34m[\u001b[0m\u001b[0;34m\"de_t0\"\u001b[0m\u001b[0;34m]\u001b[0m\u001b[0;34m\u001b[0m\u001b[0;34m\u001b[0m\u001b[0m\n\u001b[1;32m     26\u001b[0m   \u001b[0mdf\u001b[0m \u001b[0;34m=\u001b[0m \u001b[0mdf\u001b[0m\u001b[0;34m.\u001b[0m\u001b[0mfillna\u001b[0m\u001b[0;34m(\u001b[0m\u001b[0;34m-\u001b[0m\u001b[0;36m999999\u001b[0m\u001b[0;34m)\u001b[0m\u001b[0;34m\u001b[0m\u001b[0;34m\u001b[0m\u001b[0m\n",
            "\u001b[0;32m/usr/local/lib/python3.7/dist-packages/pandas/core/frame.py\u001b[0m in \u001b[0;36m__getitem__\u001b[0;34m(self, key)\u001b[0m\n\u001b[1;32m   3456\u001b[0m             \u001b[0;32mif\u001b[0m \u001b[0mself\u001b[0m\u001b[0;34m.\u001b[0m\u001b[0mcolumns\u001b[0m\u001b[0;34m.\u001b[0m\u001b[0mnlevels\u001b[0m \u001b[0;34m>\u001b[0m \u001b[0;36m1\u001b[0m\u001b[0;34m:\u001b[0m\u001b[0;34m\u001b[0m\u001b[0;34m\u001b[0m\u001b[0m\n\u001b[1;32m   3457\u001b[0m                 \u001b[0;32mreturn\u001b[0m \u001b[0mself\u001b[0m\u001b[0;34m.\u001b[0m\u001b[0m_getitem_multilevel\u001b[0m\u001b[0;34m(\u001b[0m\u001b[0mkey\u001b[0m\u001b[0;34m)\u001b[0m\u001b[0;34m\u001b[0m\u001b[0;34m\u001b[0m\u001b[0m\n\u001b[0;32m-> 3458\u001b[0;31m             \u001b[0mindexer\u001b[0m \u001b[0;34m=\u001b[0m \u001b[0mself\u001b[0m\u001b[0;34m.\u001b[0m\u001b[0mcolumns\u001b[0m\u001b[0;34m.\u001b[0m\u001b[0mget_loc\u001b[0m\u001b[0;34m(\u001b[0m\u001b[0mkey\u001b[0m\u001b[0;34m)\u001b[0m\u001b[0;34m\u001b[0m\u001b[0;34m\u001b[0m\u001b[0m\n\u001b[0m\u001b[1;32m   3459\u001b[0m             \u001b[0;32mif\u001b[0m \u001b[0mis_integer\u001b[0m\u001b[0;34m(\u001b[0m\u001b[0mindexer\u001b[0m\u001b[0;34m)\u001b[0m\u001b[0;34m:\u001b[0m\u001b[0;34m\u001b[0m\u001b[0;34m\u001b[0m\u001b[0m\n\u001b[1;32m   3460\u001b[0m                 \u001b[0mindexer\u001b[0m \u001b[0;34m=\u001b[0m \u001b[0;34m[\u001b[0m\u001b[0mindexer\u001b[0m\u001b[0;34m]\u001b[0m\u001b[0;34m\u001b[0m\u001b[0;34m\u001b[0m\u001b[0m\n",
            "\u001b[0;32m/usr/local/lib/python3.7/dist-packages/pandas/core/indexes/base.py\u001b[0m in \u001b[0;36mget_loc\u001b[0;34m(self, key, method, tolerance)\u001b[0m\n\u001b[1;32m   3361\u001b[0m                 \u001b[0;32mreturn\u001b[0m \u001b[0mself\u001b[0m\u001b[0;34m.\u001b[0m\u001b[0m_engine\u001b[0m\u001b[0;34m.\u001b[0m\u001b[0mget_loc\u001b[0m\u001b[0;34m(\u001b[0m\u001b[0mcasted_key\u001b[0m\u001b[0;34m)\u001b[0m\u001b[0;34m\u001b[0m\u001b[0;34m\u001b[0m\u001b[0m\n\u001b[1;32m   3362\u001b[0m             \u001b[0;32mexcept\u001b[0m \u001b[0mKeyError\u001b[0m \u001b[0;32mas\u001b[0m \u001b[0merr\u001b[0m\u001b[0;34m:\u001b[0m\u001b[0;34m\u001b[0m\u001b[0;34m\u001b[0m\u001b[0m\n\u001b[0;32m-> 3363\u001b[0;31m                 \u001b[0;32mraise\u001b[0m \u001b[0mKeyError\u001b[0m\u001b[0;34m(\u001b[0m\u001b[0mkey\u001b[0m\u001b[0;34m)\u001b[0m \u001b[0;32mfrom\u001b[0m \u001b[0merr\u001b[0m\u001b[0;34m\u001b[0m\u001b[0;34m\u001b[0m\u001b[0m\n\u001b[0m\u001b[1;32m   3364\u001b[0m \u001b[0;34m\u001b[0m\u001b[0m\n\u001b[1;32m   3365\u001b[0m         \u001b[0;32mif\u001b[0m \u001b[0mis_scalar\u001b[0m\u001b[0;34m(\u001b[0m\u001b[0mkey\u001b[0m\u001b[0;34m)\u001b[0m \u001b[0;32mand\u001b[0m \u001b[0misna\u001b[0m\u001b[0;34m(\u001b[0m\u001b[0mkey\u001b[0m\u001b[0;34m)\u001b[0m \u001b[0;32mand\u001b[0m \u001b[0;32mnot\u001b[0m \u001b[0mself\u001b[0m\u001b[0;34m.\u001b[0m\u001b[0mhasnans\u001b[0m\u001b[0;34m:\u001b[0m\u001b[0;34m\u001b[0m\u001b[0;34m\u001b[0m\u001b[0m\n",
            "\u001b[0;31mKeyError\u001b[0m: 'crvinfo_timeWindowStart'"
          ]
        }
      ]
    },
    {
      "cell_type": "code",
      "source": [
        "list(df)"
      ],
      "metadata": {
        "colab": {
          "base_uri": "https://localhost:8080/"
        },
        "id": "obZ4VTxMDmlx",
        "outputId": "a47f5ca5-a5ce-411b-83cd-9fa0613ce1ed"
      },
      "execution_count": 10,
      "outputs": [
        {
          "output_type": "execute_result",
          "data": {
            "text/plain": [
              "['evtinfo_eventid',\n",
              " 'evtinfo_subrunid',\n",
              " 'evtinfomc_nprotons',\n",
              " 'de_status',\n",
              " 'de_pdg',\n",
              " 'de_nhits',\n",
              " 'de_t0',\n",
              " 'deent_d0',\n",
              " 'deent_maxr',\n",
              " 'deent_td',\n",
              " 'dequal_TrkPID',\n",
              " 'dequal_TrkQual',\n",
              " 'demc_pdg',\n",
              " 'demc_gen',\n",
              " 'demcpri_pdg',\n",
              " 'demcpri_posX',\n",
              " 'demcpri_posY',\n",
              " 'demcpri_posZ',\n",
              " 'ue_status',\n",
              " 'ue_nhits',\n",
              " 'crvsummary_totalPEs',\n",
              " 'crvsummary_nHitCounters',\n",
              " 'crvsummarymc_totalEnergyDeposited',\n",
              " 'crvsummarymc_nHitCounters',\n",
              " 'crvsummarymc_x',\n",
              " 'crvsummarymc_y',\n",
              " 'crvsummarymc_z',\n",
              " 'crvsummarymc_crvSectorNumber',\n",
              " 'crvsummarymc_crvSectorType',\n",
              " 'crvsummarymc_pdgId',\n",
              " '_crvSectorType',\n",
              " '_x',\n",
              " '_y',\n",
              " '_z',\n",
              " '_pdgId',\n",
              " 'detrkpid_DeltaE',\n",
              " 'detrkpid_ClusterLength',\n",
              " 'detrkpid_RPOCA',\n",
              " 'detrkpid_TrackDirection',\n",
              " 'detrkpid_DeltaT',\n",
              " 'detrkpid_mvaout',\n",
              " 'detrkpid_mvastat',\n",
              " 'detrkpid_disk0frad',\n",
              " 'detrkpid_disk1frad',\n",
              " 'detrkpid_disk0brad',\n",
              " 'detrkpid_disk1brad',\n",
              " 'deent_mom',\n",
              " 'demcpri_mom',\n",
              " 'crvinfomc_valid',\n",
              " 'crvinfomc_pdgId',\n",
              " 'crvinfomc_primaryPdgId',\n",
              " 'crvinfomc_primaryE',\n",
              " 'crvinfomc_primaryX',\n",
              " 'crvinfomc_primaryY',\n",
              " 'crvinfomc_primaryZ',\n",
              " 'crvinfomc_parentPdgId',\n",
              " 'crvinfomc_parentE',\n",
              " 'crvinfomc_parentX',\n",
              " 'crvinfomc_parentY',\n",
              " 'crvinfomc_parentZ',\n",
              " 'crvinfomc_gparentPdgId',\n",
              " 'crvinfomc_gparentE',\n",
              " 'crvinfomc_gparentX',\n",
              " 'crvinfomc_gparentY',\n",
              " 'crvinfomc_gparentZ',\n",
              " 'crvinfomc_x',\n",
              " 'crvinfomc_y',\n",
              " 'crvinfomc_z',\n",
              " 'crvinfomc_time',\n",
              " 'crvinfomc_depositedEnergy',\n",
              " 'is_high',\n",
              " 'lyield']"
            ]
          },
          "metadata": {},
          "execution_count": 10
        }
      ]
    },
    {
      "cell_type": "markdown",
      "metadata": {
        "id": "PlHfRi5ZLLmj"
      },
      "source": [
        "#Load dataframe"
      ]
    },
    {
      "cell_type": "code",
      "metadata": {
        "id": "mU-abhhJLNIc"
      },
      "source": [
        "df = pd.read_hdf(h5file, mode='r', key=DATASET).query('lyield==17000')"
      ],
      "execution_count": null,
      "outputs": []
    },
    {
      "cell_type": "code",
      "metadata": {
        "id": "FoBthcBg0MRq"
      },
      "source": [
        "for l in range(7000,17001,2000):\n",
        "  plt.hist(df.query('is_high==1 & lyield==%i' % l)['crvinfo_PEs'], bins=100, range=(0, 1000), histtype='step');\n",
        "plt.figure()\n",
        "for l in range(7000,17001,2000):\n",
        "  plt.hist(df.query('is_high==0 & lyield==%i' % l)['crvinfo_PEs'], bins=100, range=(0, 1000), histtype='step');\n",
        "plt.figure()\n",
        "plt.hist(df.query('is_high==0 & lyield==%i' % 17000)['crvinfomc_z'], bins=100, range=(-5000, 20000), histtype='step');\n",
        "plt.hist(df.query('is_high==1 & lyield==%i' % 17000)['crvinfomc_z'], bins=100, range=(-5000, 20000), histtype='step');"
      ],
      "execution_count": null,
      "outputs": []
    },
    {
      "cell_type": "code",
      "source": [
        "cut_tmp = 'lyield==%i' % 17000\n",
        "plt.plot(df.query(cut_tmp)['crvinfomc_z'], df.query(cut_tmp)['crvinfomc_x'], '.', markersize=0.5);"
      ],
      "metadata": {
        "id": "YcRIoGigCGQM"
      },
      "execution_count": null,
      "outputs": []
    },
    {
      "cell_type": "code",
      "source": [
        "!ls -l"
      ],
      "metadata": {
        "id": "w6Ednan9mo_f"
      },
      "execution_count": null,
      "outputs": []
    },
    {
      "cell_type": "code",
      "source": [
        "!cp trk.mu2e.CosmicCRYhiSigFiltMix2BBSignal.MDC2020s_perfect_v1_0.h5 drive/MyDrive/root_files_cry5/"
      ],
      "metadata": {
        "id": "db1rQ1cYmrUg"
      },
      "execution_count": null,
      "outputs": []
    },
    {
      "cell_type": "code",
      "source": [],
      "metadata": {
        "id": "l7vieVdfxio5"
      },
      "execution_count": null,
      "outputs": []
    }
  ]
}